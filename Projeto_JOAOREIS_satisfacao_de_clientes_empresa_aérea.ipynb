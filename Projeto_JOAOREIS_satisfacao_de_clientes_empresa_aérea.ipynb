{
  "nbformat": 4,
  "nbformat_minor": 0,
  "metadata": {
    "colab": {
      "name": "Projeto_satisfacao_de_clientes_empresa_aérea",
      "provenance": [],
      "collapsed_sections": []
    },
    "kernelspec": {
      "name": "python3",
      "display_name": "Python 3"
    },
    "language_info": {
      "name": "python"
    }
  },
  "cells": [
    {
      "cell_type": "markdown",
      "metadata": {
        "id": "w02-IOPB958y"
      },
      "source": [
        "# ETAPA II do PROJETO I - APLICAÇÃO DE MÉTODOS DE APRENDIZAGEM DE MÁQUINA\n",
        "DATASET: SATISFAÇÃO EM SERVIÇOS AÉREOS \n",
        "\n",
        "Autores: \n",
        "João Batista Campos dos Reis - Matrícula 2624783\n",
        "Versão que atualiza a anterior que foi em parceria até então com Rafael Mello Vieira - Matrícula 2482507\n",
        "\n",
        "ÍNDICE\n",
        "\n",
        "Introdução\n",
        "\n",
        "Especificação técnica\n",
        "Métodos de predição - algoritmos avaliados\n",
        "Tarefa de aprendizado\n",
        "Importações\n",
        "\n",
        "Descrição do dataset\n",
        "\n",
        "Categorização das variáveis questões de pesquisa\n",
        "\n",
        "Análise exploratória de dados\n",
        "\n",
        "Correlação entre variáveis\n",
        "\n",
        "Regressão logísttica\n",
        "\n",
        "Árvore de decisões\n",
        "\n",
        "Floresta randômica\n",
        "\n",
        "\n"
      ]
    },
    {
      "cell_type": "markdown",
      "metadata": {
        "id": "5QQcoAZ0WVFy"
      },
      "source": [
        "\n",
        "#Predição da satisfação de clientes de uma companhia aérea através de algoritmos de classificação\n",
        "\n",
        "##Introdução \n",
        "\n",
        "As empresas centradas nos clientes consideram prioritária a mensuração da qualidade dos serviços e a satisfação dos seus usuários. Comparar o desempenho da empresa com a expectativa é a base do conceito de satisfação dos clientes. Esse indicador está relacionado ao maior retorno sobre o investimento (ROI), fidelização, volume de compras e valorização da marca. Um sistema de avaliação da satisfação é a base para decisões quanto à gestão da qualidade dos serviços. Entretanto, a obtenção desses dados é feita por levantamentos envolvendo diversos fatores do ciclo de serviço, que geralmente tem muitas etapas, sendo que algumas delas não são percebidas ou valorizadas pelos clientes. \n",
        "\n",
        "Os fatores que mais contribuem para a satisfação devem ser valorizados e comunicados para sua clientela, o que pode gerar um círculo virtuoso de mais satisfação, mais vendas e mais lucros. A moldagem dos fatores que geram satisfação ou que evitam a insatisfação faz com que as empresas modifiquem as operações e ações de marketing.\n",
        "\n",
        "Um indicador norte-americano de satisfação do cliente, American Customer Satisfacion Index - ACSI (2014, citado em Kotler e Keller, 2018), aponta que a líder desse índice no setor de transportes aéreos, JetBlue, obteve a pontuação de 79 numa escala de 100 pontos. Esse exemplo mostra o quanto esse indicador tem valor interno e externo à empresa.\n",
        "\n",
        "Características dos clientes, o tipo de voo e as diversas etapas do ciclo do serviço aéreo, compostos por diversas variáveis, devem ser conhecidos quanto à sua contribuição para a satisfação do cliente. A diferenciação de serviços dificulta a generalização de instrumentos de coleta de dados, porém há muitas lições a serem aprendidas em datasets sobre satisfação de clientes em empresas áreas, como o apresentado neste projeto.\n",
        "\n",
        "\n",
        "\n"
      ]
    },
    {
      "cell_type": "markdown",
      "metadata": {
        "id": "wvEpMWLcOwsO"
      },
      "source": [
        "##Objetivo\n",
        "\n",
        "Esse projeto tem como objetivo aplicar e avaliar algoritmos de machine learning para a predição de quais variáveis contribuem para o indicador de satisfação de clientes de um dataset de companhia aérea.\n",
        "\n"
      ]
    },
    {
      "cell_type": "markdown",
      "metadata": {
        "id": "vE12pjtfO0hl"
      },
      "source": [
        "##Especificação Técnica\n",
        "**Dataset**: Para desenvolvimento desse projeto, foi utilizado o dataset\n",
        "denominado Airline Passenger Satisfaction, disponível em: <https://www.kaggle.com/teejmahal20/airline-passenger-satisfaction>, que contém dados anonimizados de uma empresa não identificada.\n",
        "\n",
        "A base de dados está em formato CSV, sendo composta por dois arquivos: train.csv e test.csv. O dataset possui 25 colunas e 129880 linhas, divididas em 80% no dataset de treino e 20% no dataset de teste (arquivos originalmente separados). Entretando, a análise será feita apenas com um dos dois arquivos. A análise dos dados será feita na linguagem Python.\n"
      ]
    },
    {
      "cell_type": "markdown",
      "metadata": {
        "id": "WjQbIa8GUiS-"
      },
      "source": [
        "\n",
        "**Métodos de Pré-processamento**:\n",
        "\n",
        "\n",
        "\n",
        "Antes da aplicação dos métodos de Machine Learning é necessário o tratamento dos dados. Inicialmente serão realizadas as seguintes atividades de pré-processamento dos dados:\n",
        "\n",
        "* Compreensão do significado de cada variável do banco de dados;\n",
        "* Remoção da colunas desnecessárias, caso haja;\n",
        "* Análise e tratamento de dados faltantes (missing data);\n",
        "* Identificação e tratamento de dados inconsistentes, duplicados ou outliers.\n",
        "\n",
        "\n",
        "\n",
        "**MÉTODOS DE PREDIÇÃO**\n",
        "Os metódos preditivos utilizados são: regressão logística, árvore de decisões e árvores randômicas.\n",
        "\n"
      ]
    },
    {
      "cell_type": "markdown",
      "metadata": {
        "id": "zrjHjI4UbGF2"
      },
      "source": [
        "\n",
        "**Algoritmos Avaliados**:\n",
        " Serão avaliados os algoritmos Regressão Logística, Árvore de decisão e Random Forest.\n"
      ]
    },
    {
      "cell_type": "markdown",
      "metadata": {
        "id": "QYYGp1TXa4IM"
      },
      "source": [
        "\n",
        "**Tarefa de Aprendizado**:\n",
        "\n",
        " Será aplicada a tarefa de Classificação para predição  da satisfação do cliente (***satisfied*** ou ***neutral or dissatisfied***).\n"
      ]
    },
    {
      "cell_type": "markdown",
      "metadata": {
        "id": "fH6Sn_6prtXs"
      },
      "source": [
        "# IMPORTAÇÕES"
      ]
    },
    {
      "cell_type": "code",
      "metadata": {
        "colab": {
          "base_uri": "https://localhost:8080/"
        },
        "id": "pvrcOzrYFYUC",
        "outputId": "2cb9eae5-3762-46c2-c9ec-b15b3ebb8fc3"
      },
      "source": [
        "from google.colab import drive\n",
        "\n",
        "drive.mount('/content/drive')"
      ],
      "execution_count": null,
      "outputs": [
        {
          "output_type": "stream",
          "name": "stdout",
          "text": [
            "Drive already mounted at /content/drive; to attempt to forcibly remount, call drive.mount(\"/content/drive\", force_remount=True).\n"
          ]
        }
      ]
    },
    {
      "cell_type": "code",
      "metadata": {
        "id": "_xBdesnMZKd0"
      },
      "source": [
        "# Importação das bibliotecas\n",
        "\n",
        "import numpy as np \n",
        "import pandas as pd\n",
        "import matplotlib.pyplot as plt\n",
        "%matplotlib inline\n",
        "import seaborn as sns\n",
        "import matplotlib as mpl\n",
        "import sys"
      ],
      "execution_count": null,
      "outputs": []
    },
    {
      "cell_type": "markdown",
      "metadata": {
        "id": "Qe_k2_bqrhtD"
      },
      "source": [
        "# Dataset - descrição"
      ]
    },
    {
      "cell_type": "code",
      "metadata": {
        "id": "Dl57bTGYFfL6"
      },
      "source": [
        "df_train=pd.read_csv('/content/drive/MyDrive/dataset_/train.csv')\n",
        "df_test=pd.read_csv('/content/drive/MyDrive/dataset_/test.csv')"
      ],
      "execution_count": null,
      "outputs": []
    },
    {
      "cell_type": "markdown",
      "metadata": {
        "id": "P4Q9Y-SzFn2y"
      },
      "source": [
        "Abaixo estão relacionadas as colunas do dataset (arquivo train.csv):"
      ]
    },
    {
      "cell_type": "markdown",
      "metadata": {
        "id": "XsUZ7JvyGPPC"
      },
      "source": [
        "E a seguir os primeiros registros do dataset:"
      ]
    },
    {
      "cell_type": "code",
      "metadata": {
        "id": "zNIb4dhjezJ7",
        "colab": {
          "base_uri": "https://localhost:8080/",
          "height": 365
        },
        "outputId": "d2e89df6-df5d-4ce1-edb5-7ef589852343"
      },
      "source": [
        "df_train.head()"
      ],
      "execution_count": null,
      "outputs": [
        {
          "output_type": "execute_result",
          "data": {
            "text/html": [
              "<div>\n",
              "<style scoped>\n",
              "    .dataframe tbody tr th:only-of-type {\n",
              "        vertical-align: middle;\n",
              "    }\n",
              "\n",
              "    .dataframe tbody tr th {\n",
              "        vertical-align: top;\n",
              "    }\n",
              "\n",
              "    .dataframe thead th {\n",
              "        text-align: right;\n",
              "    }\n",
              "</style>\n",
              "<table border=\"1\" class=\"dataframe\">\n",
              "  <thead>\n",
              "    <tr style=\"text-align: right;\">\n",
              "      <th></th>\n",
              "      <th>Unnamed: 0</th>\n",
              "      <th>id</th>\n",
              "      <th>Gender</th>\n",
              "      <th>Customer Type</th>\n",
              "      <th>Age</th>\n",
              "      <th>Type of Travel</th>\n",
              "      <th>Class</th>\n",
              "      <th>Flight Distance</th>\n",
              "      <th>Inflight wifi service</th>\n",
              "      <th>Departure/Arrival time convenient</th>\n",
              "      <th>Ease of Online booking</th>\n",
              "      <th>Gate location</th>\n",
              "      <th>Food and drink</th>\n",
              "      <th>Online boarding</th>\n",
              "      <th>Seat comfort</th>\n",
              "      <th>Inflight entertainment</th>\n",
              "      <th>On-board service</th>\n",
              "      <th>Leg room service</th>\n",
              "      <th>Baggage handling</th>\n",
              "      <th>Checkin service</th>\n",
              "      <th>Inflight service</th>\n",
              "      <th>Cleanliness</th>\n",
              "      <th>Departure Delay in Minutes</th>\n",
              "      <th>Arrival Delay in Minutes</th>\n",
              "      <th>satisfaction</th>\n",
              "    </tr>\n",
              "  </thead>\n",
              "  <tbody>\n",
              "    <tr>\n",
              "      <th>0</th>\n",
              "      <td>0</td>\n",
              "      <td>70172</td>\n",
              "      <td>Male</td>\n",
              "      <td>Loyal Customer</td>\n",
              "      <td>13</td>\n",
              "      <td>Personal Travel</td>\n",
              "      <td>Eco Plus</td>\n",
              "      <td>460</td>\n",
              "      <td>3</td>\n",
              "      <td>4</td>\n",
              "      <td>3</td>\n",
              "      <td>1</td>\n",
              "      <td>5</td>\n",
              "      <td>3</td>\n",
              "      <td>5</td>\n",
              "      <td>5</td>\n",
              "      <td>4</td>\n",
              "      <td>3</td>\n",
              "      <td>4</td>\n",
              "      <td>4</td>\n",
              "      <td>5</td>\n",
              "      <td>5</td>\n",
              "      <td>25</td>\n",
              "      <td>18.0</td>\n",
              "      <td>neutral or dissatisfied</td>\n",
              "    </tr>\n",
              "    <tr>\n",
              "      <th>1</th>\n",
              "      <td>1</td>\n",
              "      <td>5047</td>\n",
              "      <td>Male</td>\n",
              "      <td>disloyal Customer</td>\n",
              "      <td>25</td>\n",
              "      <td>Business travel</td>\n",
              "      <td>Business</td>\n",
              "      <td>235</td>\n",
              "      <td>3</td>\n",
              "      <td>2</td>\n",
              "      <td>3</td>\n",
              "      <td>3</td>\n",
              "      <td>1</td>\n",
              "      <td>3</td>\n",
              "      <td>1</td>\n",
              "      <td>1</td>\n",
              "      <td>1</td>\n",
              "      <td>5</td>\n",
              "      <td>3</td>\n",
              "      <td>1</td>\n",
              "      <td>4</td>\n",
              "      <td>1</td>\n",
              "      <td>1</td>\n",
              "      <td>6.0</td>\n",
              "      <td>neutral or dissatisfied</td>\n",
              "    </tr>\n",
              "    <tr>\n",
              "      <th>2</th>\n",
              "      <td>2</td>\n",
              "      <td>110028</td>\n",
              "      <td>Female</td>\n",
              "      <td>Loyal Customer</td>\n",
              "      <td>26</td>\n",
              "      <td>Business travel</td>\n",
              "      <td>Business</td>\n",
              "      <td>1142</td>\n",
              "      <td>2</td>\n",
              "      <td>2</td>\n",
              "      <td>2</td>\n",
              "      <td>2</td>\n",
              "      <td>5</td>\n",
              "      <td>5</td>\n",
              "      <td>5</td>\n",
              "      <td>5</td>\n",
              "      <td>4</td>\n",
              "      <td>3</td>\n",
              "      <td>4</td>\n",
              "      <td>4</td>\n",
              "      <td>4</td>\n",
              "      <td>5</td>\n",
              "      <td>0</td>\n",
              "      <td>0.0</td>\n",
              "      <td>satisfied</td>\n",
              "    </tr>\n",
              "    <tr>\n",
              "      <th>3</th>\n",
              "      <td>3</td>\n",
              "      <td>24026</td>\n",
              "      <td>Female</td>\n",
              "      <td>Loyal Customer</td>\n",
              "      <td>25</td>\n",
              "      <td>Business travel</td>\n",
              "      <td>Business</td>\n",
              "      <td>562</td>\n",
              "      <td>2</td>\n",
              "      <td>5</td>\n",
              "      <td>5</td>\n",
              "      <td>5</td>\n",
              "      <td>2</td>\n",
              "      <td>2</td>\n",
              "      <td>2</td>\n",
              "      <td>2</td>\n",
              "      <td>2</td>\n",
              "      <td>5</td>\n",
              "      <td>3</td>\n",
              "      <td>1</td>\n",
              "      <td>4</td>\n",
              "      <td>2</td>\n",
              "      <td>11</td>\n",
              "      <td>9.0</td>\n",
              "      <td>neutral or dissatisfied</td>\n",
              "    </tr>\n",
              "    <tr>\n",
              "      <th>4</th>\n",
              "      <td>4</td>\n",
              "      <td>119299</td>\n",
              "      <td>Male</td>\n",
              "      <td>Loyal Customer</td>\n",
              "      <td>61</td>\n",
              "      <td>Business travel</td>\n",
              "      <td>Business</td>\n",
              "      <td>214</td>\n",
              "      <td>3</td>\n",
              "      <td>3</td>\n",
              "      <td>3</td>\n",
              "      <td>3</td>\n",
              "      <td>4</td>\n",
              "      <td>5</td>\n",
              "      <td>5</td>\n",
              "      <td>3</td>\n",
              "      <td>3</td>\n",
              "      <td>4</td>\n",
              "      <td>4</td>\n",
              "      <td>3</td>\n",
              "      <td>3</td>\n",
              "      <td>3</td>\n",
              "      <td>0</td>\n",
              "      <td>0.0</td>\n",
              "      <td>satisfied</td>\n",
              "    </tr>\n",
              "  </tbody>\n",
              "</table>\n",
              "</div>"
            ],
            "text/plain": [
              "   Unnamed: 0      id  ... Arrival Delay in Minutes             satisfaction\n",
              "0           0   70172  ...                     18.0  neutral or dissatisfied\n",
              "1           1    5047  ...                      6.0  neutral or dissatisfied\n",
              "2           2  110028  ...                      0.0                satisfied\n",
              "3           3   24026  ...                      9.0  neutral or dissatisfied\n",
              "4           4  119299  ...                      0.0                satisfied\n",
              "\n",
              "[5 rows x 25 columns]"
            ]
          },
          "metadata": {},
          "execution_count": 4
        }
      ]
    },
    {
      "cell_type": "markdown",
      "metadata": {
        "id": "32GYwf1MGVhU"
      },
      "source": [
        "# ANÁLISE EXPLORATÓRIA DE DADOS - CATEGORIZAÇÃO DAS VARIÁVEIS E QUESTÕES DE PESQUISA\n"
      ]
    },
    {
      "cell_type": "markdown",
      "metadata": {
        "id": "NVJbCbse_yxy"
      },
      "source": [
        "\n",
        "O dataset é público, sem descrição confiável dos dados, porque a fonte não foi indicada, por isso, o significado das variáveis será inferido.\n",
        "\n",
        "INFORMAÇÕES DO DATASET\n",
        "\n",
        "O dataset apresenta três categorias de variáveis:\n",
        "\n",
        "**Perfil do cliente** - são dados sobre o gênero, a fidelidade à empresa e a motivação da viagem (a trabalho ou pessoal): Gender: Male ou Female, Customer Type: loyal ou disloyal, Type of Travel: Personal ou Business.\n",
        "\n",
        "**Características do serviço contratado** - dados sobre o tipo de serviço contratado, e os possíveis atrasos no pouso ou na decolagem. Essas características estão codificadas da seguinte forma: a categoria 'Class' aplica-se tanto para voos de negócio ou pessoais. Class: Eco, Eco Plus, Business , Flight Distance, Departure Delay, e Arrival Delay.\n",
        "\n",
        "**Opinião dos clientes** (15 colunas com opinião sobre satisfação específica, e opinião sobre a satisfação geral). Supomos que a satisfação seja opinião coletada separadamente dos demais itens. \n",
        "\n",
        "**ANÁLISE DOS DADOS**\n",
        "A título de exercício de busca da utilidade da análise dos dados e da predição para o business, poderíamos verificar que conclusões podemos obter com os dados a respeito de:\n",
        "1.\t**Relação entre o perfil dos clientes e a opinião dos clientes**;\n",
        "  1.1. Há diferença na satisfação entre homens e mulheres?\n",
        "\n",
        "  1.2 Qual faixa etária é mais satisfeita?\"\n",
        "\n",
        "  1.2. Os clientes fiéis são mais satisfeitos do que os infiéis?\n",
        "\n",
        "  1.3. Viagens pessoais geram mais satisfação do que as executivas?\n",
        "\n",
        "\n",
        "2.\t**Relação entre as características da viagem contratada e a satisfação dos clientes**;\n",
        "\n",
        "    2.1. Qual a satisfação dos clientes quanto ao tipo de classe de voo?\n",
        "\n",
        "  2.2. Qual a satisfação dos clientes quanto à distância percorrida na viagem?\n",
        "  \n",
        "  2.3. Qual o índice de satisfação quando há atrasos na decolagem e pouso da aeronave?\n",
        "\n",
        "3.\t**Agrupamento dos tipos de satisfação parcial**\n",
        "\n",
        "  3.1. Quais as correlaçoes entre os itens dos serviços avaliados?\n",
        "\n",
        "4.\t**Como esses itens da satisfação compõem o item satisfação geral**; \n",
        "  \n",
        "  4.2. Como esses itens se correlacionam com o índice geral de satisfação?\n",
        "\n",
        "**OBJETIVOS DA PREDIÇÃO DOS DADOS**\n",
        "  5. **Como a combinação das características da viagem e do perfil do cliente modulam o índice de satisfação dos clientes**.\n",
        "  \n",
        "  5.5. Predição da satisfação geral a partir dos dados.\n",
        "\n",
        "\n",
        "\n"
      ]
    },
    {
      "cell_type": "markdown",
      "metadata": {
        "id": "ecNtrxseQfyQ"
      },
      "source": [
        "# EDA - ANÁLISE EXPLORATÓRIA DOS DADOS"
      ]
    },
    {
      "cell_type": "code",
      "metadata": {
        "colab": {
          "base_uri": "https://localhost:8080/"
        },
        "id": "252p66xUYQ7O",
        "outputId": "93a11943-4ab3-49c3-f101-051462f02aaa"
      },
      "source": [
        "df_train.info()"
      ],
      "execution_count": null,
      "outputs": [
        {
          "output_type": "stream",
          "name": "stdout",
          "text": [
            "<class 'pandas.core.frame.DataFrame'>\n",
            "RangeIndex: 103904 entries, 0 to 103903\n",
            "Data columns (total 25 columns):\n",
            " #   Column                             Non-Null Count   Dtype  \n",
            "---  ------                             --------------   -----  \n",
            " 0   Unnamed: 0                         103904 non-null  int64  \n",
            " 1   id                                 103904 non-null  int64  \n",
            " 2   Gender                             103904 non-null  object \n",
            " 3   Customer Type                      103904 non-null  object \n",
            " 4   Age                                103904 non-null  int64  \n",
            " 5   Type of Travel                     103904 non-null  object \n",
            " 6   Class                              103904 non-null  object \n",
            " 7   Flight Distance                    103904 non-null  int64  \n",
            " 8   Inflight wifi service              103904 non-null  int64  \n",
            " 9   Departure/Arrival time convenient  103904 non-null  int64  \n",
            " 10  Ease of Online booking             103904 non-null  int64  \n",
            " 11  Gate location                      103904 non-null  int64  \n",
            " 12  Food and drink                     103904 non-null  int64  \n",
            " 13  Online boarding                    103904 non-null  int64  \n",
            " 14  Seat comfort                       103904 non-null  int64  \n",
            " 15  Inflight entertainment             103904 non-null  int64  \n",
            " 16  On-board service                   103904 non-null  int64  \n",
            " 17  Leg room service                   103904 non-null  int64  \n",
            " 18  Baggage handling                   103904 non-null  int64  \n",
            " 19  Checkin service                    103904 non-null  int64  \n",
            " 20  Inflight service                   103904 non-null  int64  \n",
            " 21  Cleanliness                        103904 non-null  int64  \n",
            " 22  Departure Delay in Minutes         103904 non-null  int64  \n",
            " 23  Arrival Delay in Minutes           103594 non-null  float64\n",
            " 24  satisfaction                       103904 non-null  object \n",
            "dtypes: float64(1), int64(19), object(5)\n",
            "memory usage: 19.8+ MB\n"
          ]
        }
      ]
    },
    {
      "cell_type": "code",
      "metadata": {
        "id": "n4XhM6QyVdKl"
      },
      "source": [
        "# TRANFORMAR GÊNERO\n",
        "def transform_gender(x):\n",
        "    if x == 'Female':\n",
        "        return 1\n",
        "    elif x == 'Male':\n",
        "        return 0\n",
        "    else:\n",
        "        return -1\n",
        "   \n",
        "# TRANSFORMAR TIPO DE FIDELIDADE DO CLIENTE \n",
        "def transform_customer_type(x):\n",
        "    if x == 'Loyal Customer':\n",
        "        return 1\n",
        "    elif x == 'disloyal Customer':\n",
        "        return 0\n",
        "    else:\n",
        "        return -1\n",
        " \n",
        "# TRANSFORMAR TIPO DE VOO\n",
        "def transform_travel_type(x):\n",
        "    if x == 'Business travel':\n",
        "        return 1\n",
        "    elif x == 'Personal Travel':\n",
        "        return 0\n",
        "    else:\n",
        "        return -1\n",
        "\n",
        "# TRANSFORMAR TIPO DE CLASSE DE VOO\n",
        "def transform_class(x):\n",
        "    if x == 'Business':\n",
        "        return 2\n",
        "    elif x == 'Eco Plus':\n",
        "        return 1\n",
        "    elif x == 'Eco':\n",
        "        return 0    \n",
        "    else:\n",
        "        return -1\n",
        "\n",
        "# TRANSFORMAR 'SATISFAÇÃO'\n",
        "def transform_satisfaction(x):\n",
        "    if x == 'satisfied':\n",
        "        return 1\n",
        "    elif x == 'neutral or dissatisfied':\n",
        "        return 0\n",
        "    else:\n",
        "        return -1\n",
        "   \n",
        "# APAGAR COLUNAS Unnamed e id. Executar as transformações das variáveis\n",
        "def process_data(df):\n",
        "    \n",
        "    df['Gender'] = df['Gender'].apply(transform_gender)\n",
        "    df['Customer Type'] = df['Customer Type'].apply(transform_customer_type)\n",
        "    df['Type of Travel'] = df['Type of Travel'].apply(transform_travel_type)\n",
        "    df['Class'] = df['Class'].apply(transform_class)\n",
        "    df['satisfaction'] = df['satisfaction'].apply(transform_satisfaction)\n",
        "    df['Arrival Delay in Minutes'].fillna(df['Arrival Delay in Minutes'].median(), inplace = True)\n",
        "    \n",
        "    return df\n",
        "\n",
        "df_train = process_data(df_train)\n",
        "df_test = process_data(df_test)"
      ],
      "execution_count": null,
      "outputs": []
    },
    {
      "cell_type": "code",
      "metadata": {
        "id": "zUMqrp77fsOz"
      },
      "source": [
        "# Alterar títulos das colunas\n",
        "df_train.columns=[each.replace(\" \",\"_\") for each in df_train.columns]\n"
      ],
      "execution_count": null,
      "outputs": []
    },
    {
      "cell_type": "code",
      "metadata": {
        "colab": {
          "base_uri": "https://localhost:8080/",
          "height": 244
        },
        "id": "aEo5b88Tf35D",
        "outputId": "f424d990-e489-4c90-fb82-78a71fa5e42e"
      },
      "source": [
        "df_train.head()"
      ],
      "execution_count": null,
      "outputs": [
        {
          "output_type": "execute_result",
          "data": {
            "text/html": [
              "<div>\n",
              "<style scoped>\n",
              "    .dataframe tbody tr th:only-of-type {\n",
              "        vertical-align: middle;\n",
              "    }\n",
              "\n",
              "    .dataframe tbody tr th {\n",
              "        vertical-align: top;\n",
              "    }\n",
              "\n",
              "    .dataframe thead th {\n",
              "        text-align: right;\n",
              "    }\n",
              "</style>\n",
              "<table border=\"1\" class=\"dataframe\">\n",
              "  <thead>\n",
              "    <tr style=\"text-align: right;\">\n",
              "      <th></th>\n",
              "      <th>Unnamed:_0</th>\n",
              "      <th>id</th>\n",
              "      <th>Gender</th>\n",
              "      <th>Customer_Type</th>\n",
              "      <th>Age</th>\n",
              "      <th>Type_of_Travel</th>\n",
              "      <th>Class</th>\n",
              "      <th>Flight_Distance</th>\n",
              "      <th>Inflight_wifi_service</th>\n",
              "      <th>Departure/Arrival_time_convenient</th>\n",
              "      <th>Ease_of_Online_booking</th>\n",
              "      <th>Gate_location</th>\n",
              "      <th>Food_and_drink</th>\n",
              "      <th>Online_boarding</th>\n",
              "      <th>Seat_comfort</th>\n",
              "      <th>Inflight_entertainment</th>\n",
              "      <th>On-board_service</th>\n",
              "      <th>Leg_room_service</th>\n",
              "      <th>Baggage_handling</th>\n",
              "      <th>Checkin_service</th>\n",
              "      <th>Inflight_service</th>\n",
              "      <th>Cleanliness</th>\n",
              "      <th>Departure_Delay_in_Minutes</th>\n",
              "      <th>Arrival_Delay_in_Minutes</th>\n",
              "      <th>satisfaction</th>\n",
              "    </tr>\n",
              "  </thead>\n",
              "  <tbody>\n",
              "    <tr>\n",
              "      <th>0</th>\n",
              "      <td>0</td>\n",
              "      <td>70172</td>\n",
              "      <td>0</td>\n",
              "      <td>1</td>\n",
              "      <td>13</td>\n",
              "      <td>0</td>\n",
              "      <td>1</td>\n",
              "      <td>460</td>\n",
              "      <td>3</td>\n",
              "      <td>4</td>\n",
              "      <td>3</td>\n",
              "      <td>1</td>\n",
              "      <td>5</td>\n",
              "      <td>3</td>\n",
              "      <td>5</td>\n",
              "      <td>5</td>\n",
              "      <td>4</td>\n",
              "      <td>3</td>\n",
              "      <td>4</td>\n",
              "      <td>4</td>\n",
              "      <td>5</td>\n",
              "      <td>5</td>\n",
              "      <td>25</td>\n",
              "      <td>18.0</td>\n",
              "      <td>0</td>\n",
              "    </tr>\n",
              "    <tr>\n",
              "      <th>1</th>\n",
              "      <td>1</td>\n",
              "      <td>5047</td>\n",
              "      <td>0</td>\n",
              "      <td>0</td>\n",
              "      <td>25</td>\n",
              "      <td>1</td>\n",
              "      <td>2</td>\n",
              "      <td>235</td>\n",
              "      <td>3</td>\n",
              "      <td>2</td>\n",
              "      <td>3</td>\n",
              "      <td>3</td>\n",
              "      <td>1</td>\n",
              "      <td>3</td>\n",
              "      <td>1</td>\n",
              "      <td>1</td>\n",
              "      <td>1</td>\n",
              "      <td>5</td>\n",
              "      <td>3</td>\n",
              "      <td>1</td>\n",
              "      <td>4</td>\n",
              "      <td>1</td>\n",
              "      <td>1</td>\n",
              "      <td>6.0</td>\n",
              "      <td>0</td>\n",
              "    </tr>\n",
              "    <tr>\n",
              "      <th>2</th>\n",
              "      <td>2</td>\n",
              "      <td>110028</td>\n",
              "      <td>1</td>\n",
              "      <td>1</td>\n",
              "      <td>26</td>\n",
              "      <td>1</td>\n",
              "      <td>2</td>\n",
              "      <td>1142</td>\n",
              "      <td>2</td>\n",
              "      <td>2</td>\n",
              "      <td>2</td>\n",
              "      <td>2</td>\n",
              "      <td>5</td>\n",
              "      <td>5</td>\n",
              "      <td>5</td>\n",
              "      <td>5</td>\n",
              "      <td>4</td>\n",
              "      <td>3</td>\n",
              "      <td>4</td>\n",
              "      <td>4</td>\n",
              "      <td>4</td>\n",
              "      <td>5</td>\n",
              "      <td>0</td>\n",
              "      <td>0.0</td>\n",
              "      <td>1</td>\n",
              "    </tr>\n",
              "    <tr>\n",
              "      <th>3</th>\n",
              "      <td>3</td>\n",
              "      <td>24026</td>\n",
              "      <td>1</td>\n",
              "      <td>1</td>\n",
              "      <td>25</td>\n",
              "      <td>1</td>\n",
              "      <td>2</td>\n",
              "      <td>562</td>\n",
              "      <td>2</td>\n",
              "      <td>5</td>\n",
              "      <td>5</td>\n",
              "      <td>5</td>\n",
              "      <td>2</td>\n",
              "      <td>2</td>\n",
              "      <td>2</td>\n",
              "      <td>2</td>\n",
              "      <td>2</td>\n",
              "      <td>5</td>\n",
              "      <td>3</td>\n",
              "      <td>1</td>\n",
              "      <td>4</td>\n",
              "      <td>2</td>\n",
              "      <td>11</td>\n",
              "      <td>9.0</td>\n",
              "      <td>0</td>\n",
              "    </tr>\n",
              "    <tr>\n",
              "      <th>4</th>\n",
              "      <td>4</td>\n",
              "      <td>119299</td>\n",
              "      <td>0</td>\n",
              "      <td>1</td>\n",
              "      <td>61</td>\n",
              "      <td>1</td>\n",
              "      <td>2</td>\n",
              "      <td>214</td>\n",
              "      <td>3</td>\n",
              "      <td>3</td>\n",
              "      <td>3</td>\n",
              "      <td>3</td>\n",
              "      <td>4</td>\n",
              "      <td>5</td>\n",
              "      <td>5</td>\n",
              "      <td>3</td>\n",
              "      <td>3</td>\n",
              "      <td>4</td>\n",
              "      <td>4</td>\n",
              "      <td>3</td>\n",
              "      <td>3</td>\n",
              "      <td>3</td>\n",
              "      <td>0</td>\n",
              "      <td>0.0</td>\n",
              "      <td>1</td>\n",
              "    </tr>\n",
              "  </tbody>\n",
              "</table>\n",
              "</div>"
            ],
            "text/plain": [
              "   Unnamed:_0      id  ...  Arrival_Delay_in_Minutes  satisfaction\n",
              "0           0   70172  ...                      18.0             0\n",
              "1           1    5047  ...                       6.0             0\n",
              "2           2  110028  ...                       0.0             1\n",
              "3           3   24026  ...                       9.0             0\n",
              "4           4  119299  ...                       0.0             1\n",
              "\n",
              "[5 rows x 25 columns]"
            ]
          },
          "metadata": {},
          "execution_count": 8
        }
      ]
    },
    {
      "cell_type": "code",
      "metadata": {
        "colab": {
          "base_uri": "https://localhost:8080/"
        },
        "id": "tCcpd5cshKYm",
        "outputId": "e6725a81-7c94-4e37-8b45-77343c1ae838"
      },
      "source": [
        "df_train.isnull().sum()  # Verificar se ainda há nulos, após preencher missing values de \"Arrival Delay in Minutes\""
      ],
      "execution_count": null,
      "outputs": [
        {
          "output_type": "execute_result",
          "data": {
            "text/plain": [
              "Unnamed:_0                           0\n",
              "id                                   0\n",
              "Gender                               0\n",
              "Customer_Type                        0\n",
              "Age                                  0\n",
              "Type_of_Travel                       0\n",
              "Class                                0\n",
              "Flight_Distance                      0\n",
              "Inflight_wifi_service                0\n",
              "Departure/Arrival_time_convenient    0\n",
              "Ease_of_Online_booking               0\n",
              "Gate_location                        0\n",
              "Food_and_drink                       0\n",
              "Online_boarding                      0\n",
              "Seat_comfort                         0\n",
              "Inflight_entertainment               0\n",
              "On-board_service                     0\n",
              "Leg_room_service                     0\n",
              "Baggage_handling                     0\n",
              "Checkin_service                      0\n",
              "Inflight_service                     0\n",
              "Cleanliness                          0\n",
              "Departure_Delay_in_Minutes           0\n",
              "Arrival_Delay_in_Minutes             0\n",
              "satisfaction                         0\n",
              "dtype: int64"
            ]
          },
          "metadata": {},
          "execution_count": 9
        }
      ]
    },
    {
      "cell_type": "code",
      "metadata": {
        "id": "Q9rs3noORvg7"
      },
      "source": [
        "def bar_plot(variable):\n",
        "    \n",
        "    var=df_train[variable]\n",
        "    var_Value=var.value_counts()\n",
        "    \n",
        "    #visualize\n",
        "    plt.figure(figsize=(9,3))\n",
        "    plt.bar(var_Value.index,var_Value.values)\n",
        "    \n",
        "    plt.xlabel(\"Passengers Score\")\n",
        "    plt.ylabel(\"Frequência\")\n",
        "    plt.title(variable)\n",
        "    plt.show()\n",
        "    print(\"{}: \\n {}\".format(variable,var_Value))"
      ],
      "execution_count": null,
      "outputs": []
    },
    {
      "cell_type": "code",
      "metadata": {
        "id": "mnS7C-lXRHMt"
      },
      "source": [
        "def plot_hist(variable):\n",
        "    plt.figure(figsize=(9,3))\n",
        "    plt.hist(df_train[variable],bins=50)\n",
        "    plt.xlabel(variable)\n",
        "    plt.ylabel(\"Frequência\")\n",
        "    plt.title(\"{} distribution with histogram\".format(variable))\n",
        "    plt.show()"
      ],
      "execution_count": null,
      "outputs": []
    },
    {
      "cell_type": "code",
      "metadata": {
        "colab": {
          "base_uri": "https://localhost:8080/",
          "height": 1000
        },
        "id": "enJWAWwUSSQ9",
        "outputId": "cbbb3bc2-66dc-418d-a857-7e7a9cb6be25"
      },
      "source": [
        "numericVar=[\"Gender\", \"Customer_Type\", \"Age\", \"Type_of_Travel\", \"Class\", \"Flight_Distance\", \"Departure_Delay_in_Minutes\", \"Arrival_Delay_in_Minutes\"]\n",
        "for n in numericVar:\n",
        "    plot_hist(n)"
      ],
      "execution_count": null,
      "outputs": [
        {
          "output_type": "display_data",
          "data": {
            "image/png": "[encoded data removed]",
            "text/plain": [
              "<Figure size 648x216 with 1 Axes>"
            ]
          },
          "metadata": {
            "needs_background": "light"
          }
        },
        {
          "output_type": "display_data",
          "data": {
            "image/png": "[encoded data removed]",
            "text/plain": [
              "<Figure size 648x216 with 1 Axes>"
            ]
          },
          "metadata": {
            "needs_background": "light"
          }
        },
        {
          "output_type": "display_data",
          "data": {
            "image/png": "[encoded data removed]",
            "text/plain": [
              "<Figure size 648x216 with 1 Axes>"
            ]
          },
          "metadata": {
            "needs_background": "light"
          }
        },
        {
          "output_type": "display_data",
          "data": {
            "image/png": "[encoded data removed]",
            "text/plain": [
              "<Figure size 648x216 with 1 Axes>"
            ]
          },
          "metadata": {
            "needs_background": "light"
          }
        },
        {
          "output_type": "display_data",
          "data": {
            "image/png": "[encoded data removed]",
            "text/plain": [
              "<Figure size 648x216 with 1 Axes>"
            ]
          },
          "metadata": {
            "needs_background": "light"
          }
        },
        {
          "output_type": "display_data",
          "data": {
            "image/png": "[encoded data removed]",
            "text/plain": [
              "<Figure size 648x216 with 1 Axes>"
            ]
          },
          "metadata": {
            "needs_background": "light"
          }
        },
        {
          "output_type": "display_data",
          "data": {
            "image/png": "[encoded data removed]",
            "text/plain": [
              "<Figure size 648x216 with 1 Axes>"
            ]
          },
          "metadata": {
            "needs_background": "light"
          }
        },
        {
          "output_type": "display_data",
          "data": {
            "image/png": "[encoded data removed]",
            "text/plain": [
              "<Figure size 648x216 with 1 Axes>"
            ]
          },
          "metadata": {
            "needs_background": "light"
          }
        }
      ]
    },
    {
      "cell_type": "markdown",
      "metadata": {
        "id": "qzn0eyiTRuaU"
      },
      "source": [
        "# ANÁLISE DAS CATEGORIAS DOS DADOS - CORRELAÇÃO ENTRE VARIÁVEIS\n",
        "\n",
        "A variável 'Satisfaction' está com dois atributos, 'Satisfied\" e \"neutral or dissatisfied\". \n",
        "Para a análise que será feita. Converteremos essa categoria em 1 e 0, já que o dataset não fez distinção entre neutralidade e insatisfação - embora esses conceitos seram distintos na literatura de marketing de serviços. Pessoas neutras terão relação com o negócio distinta das pessoas insatisfeitas (Herzberg, citado em Kotler & Keller, 2018)."
      ]
    },
    {
      "cell_type": "code",
      "metadata": {
        "colab": {
          "base_uri": "https://localhost:8080/",
          "height": 34
        },
        "id": "xhe5rsaz3ObU",
        "outputId": "8fb1b83f-3e63-471d-af12-1c615f6db3eb"
      },
      "source": [
        "fig = plt.figure()"
      ],
      "execution_count": null,
      "outputs": [
        {
          "output_type": "display_data",
          "data": {
            "text/plain": [
              "<Figure size 432x288 with 0 Axes>"
            ]
          },
          "metadata": {}
        }
      ]
    },
    {
      "cell_type": "code",
      "metadata": {
        "colab": {
          "base_uri": "https://localhost:8080/",
          "height": 337
        },
        "id": "UA2DqnBd7KZ8",
        "outputId": "2a87508b-74f3-4ffc-ae6a-8a948f97d110"
      },
      "source": [
        "df_train.describe()"
      ],
      "execution_count": null,
      "outputs": [
        {
          "output_type": "execute_result",
          "data": {
            "text/html": [
              "<div>\n",
              "<style scoped>\n",
              "    .dataframe tbody tr th:only-of-type {\n",
              "        vertical-align: middle;\n",
              "    }\n",
              "\n",
              "    .dataframe tbody tr th {\n",
              "        vertical-align: top;\n",
              "    }\n",
              "\n",
              "    .dataframe thead th {\n",
              "        text-align: right;\n",
              "    }\n",
              "</style>\n",
              "<table border=\"1\" class=\"dataframe\">\n",
              "  <thead>\n",
              "    <tr style=\"text-align: right;\">\n",
              "      <th></th>\n",
              "      <th>Unnamed:_0</th>\n",
              "      <th>id</th>\n",
              "      <th>Gender</th>\n",
              "      <th>Customer_Type</th>\n",
              "      <th>Age</th>\n",
              "      <th>Type_of_Travel</th>\n",
              "      <th>Class</th>\n",
              "      <th>Flight_Distance</th>\n",
              "      <th>Inflight_wifi_service</th>\n",
              "      <th>Departure/Arrival_time_convenient</th>\n",
              "      <th>Ease_of_Online_booking</th>\n",
              "      <th>Gate_location</th>\n",
              "      <th>Food_and_drink</th>\n",
              "      <th>Online_boarding</th>\n",
              "      <th>Seat_comfort</th>\n",
              "      <th>Inflight_entertainment</th>\n",
              "      <th>On-board_service</th>\n",
              "      <th>Leg_room_service</th>\n",
              "      <th>Baggage_handling</th>\n",
              "      <th>Checkin_service</th>\n",
              "      <th>Inflight_service</th>\n",
              "      <th>Cleanliness</th>\n",
              "      <th>Departure_Delay_in_Minutes</th>\n",
              "      <th>Arrival_Delay_in_Minutes</th>\n",
              "      <th>satisfaction</th>\n",
              "    </tr>\n",
              "  </thead>\n",
              "  <tbody>\n",
              "    <tr>\n",
              "      <th>count</th>\n",
              "      <td>103904.000000</td>\n",
              "      <td>103904.000000</td>\n",
              "      <td>103904.000000</td>\n",
              "      <td>103904.000000</td>\n",
              "      <td>103904.000000</td>\n",
              "      <td>103904.000000</td>\n",
              "      <td>103904.000000</td>\n",
              "      <td>103904.000000</td>\n",
              "      <td>103904.000000</td>\n",
              "      <td>103904.000000</td>\n",
              "      <td>103904.000000</td>\n",
              "      <td>103904.000000</td>\n",
              "      <td>103904.000000</td>\n",
              "      <td>103904.000000</td>\n",
              "      <td>103904.000000</td>\n",
              "      <td>103904.000000</td>\n",
              "      <td>103904.000000</td>\n",
              "      <td>103904.000000</td>\n",
              "      <td>103904.000000</td>\n",
              "      <td>103904.000000</td>\n",
              "      <td>103904.000000</td>\n",
              "      <td>103904.000000</td>\n",
              "      <td>103904.000000</td>\n",
              "      <td>103904.000000</td>\n",
              "      <td>103904.000000</td>\n",
              "    </tr>\n",
              "    <tr>\n",
              "      <th>mean</th>\n",
              "      <td>51951.500000</td>\n",
              "      <td>64924.210502</td>\n",
              "      <td>0.507459</td>\n",
              "      <td>0.817322</td>\n",
              "      <td>39.379706</td>\n",
              "      <td>0.689627</td>\n",
              "      <td>1.028103</td>\n",
              "      <td>1189.448375</td>\n",
              "      <td>2.729683</td>\n",
              "      <td>3.060296</td>\n",
              "      <td>2.756901</td>\n",
              "      <td>2.976883</td>\n",
              "      <td>3.202129</td>\n",
              "      <td>3.250375</td>\n",
              "      <td>3.439396</td>\n",
              "      <td>3.358158</td>\n",
              "      <td>3.382363</td>\n",
              "      <td>3.351055</td>\n",
              "      <td>3.631833</td>\n",
              "      <td>3.304290</td>\n",
              "      <td>3.640428</td>\n",
              "      <td>3.286351</td>\n",
              "      <td>14.815618</td>\n",
              "      <td>15.133392</td>\n",
              "      <td>0.433333</td>\n",
              "    </tr>\n",
              "    <tr>\n",
              "      <th>std</th>\n",
              "      <td>29994.645522</td>\n",
              "      <td>37463.812252</td>\n",
              "      <td>0.499947</td>\n",
              "      <td>0.386404</td>\n",
              "      <td>15.114964</td>\n",
              "      <td>0.462649</td>\n",
              "      <td>0.962858</td>\n",
              "      <td>997.147281</td>\n",
              "      <td>1.327829</td>\n",
              "      <td>1.525075</td>\n",
              "      <td>1.398929</td>\n",
              "      <td>1.277621</td>\n",
              "      <td>1.329533</td>\n",
              "      <td>1.349509</td>\n",
              "      <td>1.319088</td>\n",
              "      <td>1.332991</td>\n",
              "      <td>1.288354</td>\n",
              "      <td>1.315605</td>\n",
              "      <td>1.180903</td>\n",
              "      <td>1.265396</td>\n",
              "      <td>1.175663</td>\n",
              "      <td>1.312273</td>\n",
              "      <td>38.230901</td>\n",
              "      <td>38.649776</td>\n",
              "      <td>0.495538</td>\n",
              "    </tr>\n",
              "    <tr>\n",
              "      <th>min</th>\n",
              "      <td>0.000000</td>\n",
              "      <td>1.000000</td>\n",
              "      <td>0.000000</td>\n",
              "      <td>0.000000</td>\n",
              "      <td>7.000000</td>\n",
              "      <td>0.000000</td>\n",
              "      <td>0.000000</td>\n",
              "      <td>31.000000</td>\n",
              "      <td>0.000000</td>\n",
              "      <td>0.000000</td>\n",
              "      <td>0.000000</td>\n",
              "      <td>0.000000</td>\n",
              "      <td>0.000000</td>\n",
              "      <td>0.000000</td>\n",
              "      <td>0.000000</td>\n",
              "      <td>0.000000</td>\n",
              "      <td>0.000000</td>\n",
              "      <td>0.000000</td>\n",
              "      <td>1.000000</td>\n",
              "      <td>0.000000</td>\n",
              "      <td>0.000000</td>\n",
              "      <td>0.000000</td>\n",
              "      <td>0.000000</td>\n",
              "      <td>0.000000</td>\n",
              "      <td>0.000000</td>\n",
              "    </tr>\n",
              "    <tr>\n",
              "      <th>25%</th>\n",
              "      <td>25975.750000</td>\n",
              "      <td>32533.750000</td>\n",
              "      <td>0.000000</td>\n",
              "      <td>1.000000</td>\n",
              "      <td>27.000000</td>\n",
              "      <td>0.000000</td>\n",
              "      <td>0.000000</td>\n",
              "      <td>414.000000</td>\n",
              "      <td>2.000000</td>\n",
              "      <td>2.000000</td>\n",
              "      <td>2.000000</td>\n",
              "      <td>2.000000</td>\n",
              "      <td>2.000000</td>\n",
              "      <td>2.000000</td>\n",
              "      <td>2.000000</td>\n",
              "      <td>2.000000</td>\n",
              "      <td>2.000000</td>\n",
              "      <td>2.000000</td>\n",
              "      <td>3.000000</td>\n",
              "      <td>3.000000</td>\n",
              "      <td>3.000000</td>\n",
              "      <td>2.000000</td>\n",
              "      <td>0.000000</td>\n",
              "      <td>0.000000</td>\n",
              "      <td>0.000000</td>\n",
              "    </tr>\n",
              "    <tr>\n",
              "      <th>50%</th>\n",
              "      <td>51951.500000</td>\n",
              "      <td>64856.500000</td>\n",
              "      <td>1.000000</td>\n",
              "      <td>1.000000</td>\n",
              "      <td>40.000000</td>\n",
              "      <td>1.000000</td>\n",
              "      <td>1.000000</td>\n",
              "      <td>843.000000</td>\n",
              "      <td>3.000000</td>\n",
              "      <td>3.000000</td>\n",
              "      <td>3.000000</td>\n",
              "      <td>3.000000</td>\n",
              "      <td>3.000000</td>\n",
              "      <td>3.000000</td>\n",
              "      <td>4.000000</td>\n",
              "      <td>4.000000</td>\n",
              "      <td>4.000000</td>\n",
              "      <td>4.000000</td>\n",
              "      <td>4.000000</td>\n",
              "      <td>3.000000</td>\n",
              "      <td>4.000000</td>\n",
              "      <td>3.000000</td>\n",
              "      <td>0.000000</td>\n",
              "      <td>0.000000</td>\n",
              "      <td>0.000000</td>\n",
              "    </tr>\n",
              "    <tr>\n",
              "      <th>75%</th>\n",
              "      <td>77927.250000</td>\n",
              "      <td>97368.250000</td>\n",
              "      <td>1.000000</td>\n",
              "      <td>1.000000</td>\n",
              "      <td>51.000000</td>\n",
              "      <td>1.000000</td>\n",
              "      <td>2.000000</td>\n",
              "      <td>1743.000000</td>\n",
              "      <td>4.000000</td>\n",
              "      <td>4.000000</td>\n",
              "      <td>4.000000</td>\n",
              "      <td>4.000000</td>\n",
              "      <td>4.000000</td>\n",
              "      <td>4.000000</td>\n",
              "      <td>5.000000</td>\n",
              "      <td>4.000000</td>\n",
              "      <td>4.000000</td>\n",
              "      <td>4.000000</td>\n",
              "      <td>5.000000</td>\n",
              "      <td>4.000000</td>\n",
              "      <td>5.000000</td>\n",
              "      <td>4.000000</td>\n",
              "      <td>12.000000</td>\n",
              "      <td>13.000000</td>\n",
              "      <td>1.000000</td>\n",
              "    </tr>\n",
              "    <tr>\n",
              "      <th>max</th>\n",
              "      <td>103903.000000</td>\n",
              "      <td>129880.000000</td>\n",
              "      <td>1.000000</td>\n",
              "      <td>1.000000</td>\n",
              "      <td>85.000000</td>\n",
              "      <td>1.000000</td>\n",
              "      <td>2.000000</td>\n",
              "      <td>4983.000000</td>\n",
              "      <td>5.000000</td>\n",
              "      <td>5.000000</td>\n",
              "      <td>5.000000</td>\n",
              "      <td>5.000000</td>\n",
              "      <td>5.000000</td>\n",
              "      <td>5.000000</td>\n",
              "      <td>5.000000</td>\n",
              "      <td>5.000000</td>\n",
              "      <td>5.000000</td>\n",
              "      <td>5.000000</td>\n",
              "      <td>5.000000</td>\n",
              "      <td>5.000000</td>\n",
              "      <td>5.000000</td>\n",
              "      <td>5.000000</td>\n",
              "      <td>1592.000000</td>\n",
              "      <td>1584.000000</td>\n",
              "      <td>1.000000</td>\n",
              "    </tr>\n",
              "  </tbody>\n",
              "</table>\n",
              "</div>"
            ],
            "text/plain": [
              "          Unnamed:_0             id  ...  Arrival_Delay_in_Minutes   satisfaction\n",
              "count  103904.000000  103904.000000  ...             103904.000000  103904.000000\n",
              "mean    51951.500000   64924.210502  ...                 15.133392       0.433333\n",
              "std     29994.645522   37463.812252  ...                 38.649776       0.495538\n",
              "min         0.000000       1.000000  ...                  0.000000       0.000000\n",
              "25%     25975.750000   32533.750000  ...                  0.000000       0.000000\n",
              "50%     51951.500000   64856.500000  ...                  0.000000       0.000000\n",
              "75%     77927.250000   97368.250000  ...                 13.000000       1.000000\n",
              "max    103903.000000  129880.000000  ...               1584.000000       1.000000\n",
              "\n",
              "[8 rows x 25 columns]"
            ]
          },
          "metadata": {},
          "execution_count": 14
        }
      ]
    },
    {
      "cell_type": "code",
      "metadata": {
        "colab": {
          "base_uri": "https://localhost:8080/"
        },
        "id": "CuGKlaGj7ae3",
        "outputId": "74169924-5932-4869-d7e0-56d9735941fb"
      },
      "source": [
        "df_test.describe()"
      ],
      "execution_count": null,
      "outputs": [
        {
          "output_type": "execute_result",
          "data": {
            "text/html": [
              "<div>\n",
              "<style scoped>\n",
              "    .dataframe tbody tr th:only-of-type {\n",
              "        vertical-align: middle;\n",
              "    }\n",
              "\n",
              "    .dataframe tbody tr th {\n",
              "        vertical-align: top;\n",
              "    }\n",
              "\n",
              "    .dataframe thead th {\n",
              "        text-align: right;\n",
              "    }\n",
              "</style>\n",
              "<table border=\"1\" class=\"dataframe\">\n",
              "  <thead>\n",
              "    <tr style=\"text-align: right;\">\n",
              "      <th></th>\n",
              "      <th>Unnamed: 0</th>\n",
              "      <th>id</th>\n",
              "      <th>Gender</th>\n",
              "      <th>Customer Type</th>\n",
              "      <th>Age</th>\n",
              "      <th>Type of Travel</th>\n",
              "      <th>Class</th>\n",
              "      <th>Flight Distance</th>\n",
              "      <th>Inflight wifi service</th>\n",
              "      <th>Departure/Arrival time convenient</th>\n",
              "      <th>Ease of Online booking</th>\n",
              "      <th>Gate location</th>\n",
              "      <th>Food and drink</th>\n",
              "      <th>Online boarding</th>\n",
              "      <th>Seat comfort</th>\n",
              "      <th>Inflight entertainment</th>\n",
              "      <th>On-board service</th>\n",
              "      <th>Leg room service</th>\n",
              "      <th>Baggage handling</th>\n",
              "      <th>Checkin service</th>\n",
              "      <th>Inflight service</th>\n",
              "      <th>Cleanliness</th>\n",
              "      <th>Departure Delay in Minutes</th>\n",
              "      <th>Arrival Delay in Minutes</th>\n",
              "      <th>satisfaction</th>\n",
              "    </tr>\n",
              "  </thead>\n",
              "  <tbody>\n",
              "    <tr>\n",
              "      <th>count</th>\n",
              "      <td>25976.000000</td>\n",
              "      <td>25976.000000</td>\n",
              "      <td>25976.000000</td>\n",
              "      <td>25976.000000</td>\n",
              "      <td>25976.000000</td>\n",
              "      <td>25976.000000</td>\n",
              "      <td>25976.000000</td>\n",
              "      <td>25976.000000</td>\n",
              "      <td>25976.000000</td>\n",
              "      <td>25976.000000</td>\n",
              "      <td>25976.000000</td>\n",
              "      <td>25976.000000</td>\n",
              "      <td>25976.000000</td>\n",
              "      <td>25976.000000</td>\n",
              "      <td>25976.000000</td>\n",
              "      <td>25976.000000</td>\n",
              "      <td>25976.000000</td>\n",
              "      <td>25976.000000</td>\n",
              "      <td>25976.000000</td>\n",
              "      <td>25976.000000</td>\n",
              "      <td>25976.000000</td>\n",
              "      <td>25976.000000</td>\n",
              "      <td>25976.00000</td>\n",
              "      <td>25976.000000</td>\n",
              "      <td>25976.000000</td>\n",
              "    </tr>\n",
              "    <tr>\n",
              "      <th>mean</th>\n",
              "      <td>12987.500000</td>\n",
              "      <td>65005.657992</td>\n",
              "      <td>0.507083</td>\n",
              "      <td>0.815253</td>\n",
              "      <td>39.620958</td>\n",
              "      <td>0.694410</td>\n",
              "      <td>1.035841</td>\n",
              "      <td>1193.788459</td>\n",
              "      <td>2.724746</td>\n",
              "      <td>3.046812</td>\n",
              "      <td>2.756775</td>\n",
              "      <td>2.977094</td>\n",
              "      <td>3.215353</td>\n",
              "      <td>3.261665</td>\n",
              "      <td>3.449222</td>\n",
              "      <td>3.357753</td>\n",
              "      <td>3.385664</td>\n",
              "      <td>3.350169</td>\n",
              "      <td>3.633238</td>\n",
              "      <td>3.314175</td>\n",
              "      <td>3.649253</td>\n",
              "      <td>3.286226</td>\n",
              "      <td>14.30609</td>\n",
              "      <td>14.693756</td>\n",
              "      <td>0.438982</td>\n",
              "    </tr>\n",
              "    <tr>\n",
              "      <th>std</th>\n",
              "      <td>7498.769632</td>\n",
              "      <td>37611.526647</td>\n",
              "      <td>0.499959</td>\n",
              "      <td>0.388100</td>\n",
              "      <td>15.135685</td>\n",
              "      <td>0.460666</td>\n",
              "      <td>0.961744</td>\n",
              "      <td>998.683999</td>\n",
              "      <td>1.335384</td>\n",
              "      <td>1.533371</td>\n",
              "      <td>1.412951</td>\n",
              "      <td>1.282133</td>\n",
              "      <td>1.331506</td>\n",
              "      <td>1.355536</td>\n",
              "      <td>1.320090</td>\n",
              "      <td>1.338299</td>\n",
              "      <td>1.282088</td>\n",
              "      <td>1.318862</td>\n",
              "      <td>1.176525</td>\n",
              "      <td>1.269332</td>\n",
              "      <td>1.180681</td>\n",
              "      <td>1.319330</td>\n",
              "      <td>37.42316</td>\n",
              "      <td>37.466787</td>\n",
              "      <td>0.496272</td>\n",
              "    </tr>\n",
              "    <tr>\n",
              "      <th>min</th>\n",
              "      <td>0.000000</td>\n",
              "      <td>17.000000</td>\n",
              "      <td>0.000000</td>\n",
              "      <td>0.000000</td>\n",
              "      <td>7.000000</td>\n",
              "      <td>0.000000</td>\n",
              "      <td>0.000000</td>\n",
              "      <td>31.000000</td>\n",
              "      <td>0.000000</td>\n",
              "      <td>0.000000</td>\n",
              "      <td>0.000000</td>\n",
              "      <td>1.000000</td>\n",
              "      <td>0.000000</td>\n",
              "      <td>0.000000</td>\n",
              "      <td>1.000000</td>\n",
              "      <td>0.000000</td>\n",
              "      <td>0.000000</td>\n",
              "      <td>0.000000</td>\n",
              "      <td>1.000000</td>\n",
              "      <td>1.000000</td>\n",
              "      <td>0.000000</td>\n",
              "      <td>0.000000</td>\n",
              "      <td>0.00000</td>\n",
              "      <td>0.000000</td>\n",
              "      <td>0.000000</td>\n",
              "    </tr>\n",
              "    <tr>\n",
              "      <th>25%</th>\n",
              "      <td>6493.750000</td>\n",
              "      <td>32170.500000</td>\n",
              "      <td>0.000000</td>\n",
              "      <td>1.000000</td>\n",
              "      <td>27.000000</td>\n",
              "      <td>0.000000</td>\n",
              "      <td>0.000000</td>\n",
              "      <td>414.000000</td>\n",
              "      <td>2.000000</td>\n",
              "      <td>2.000000</td>\n",
              "      <td>2.000000</td>\n",
              "      <td>2.000000</td>\n",
              "      <td>2.000000</td>\n",
              "      <td>2.000000</td>\n",
              "      <td>2.000000</td>\n",
              "      <td>2.000000</td>\n",
              "      <td>2.000000</td>\n",
              "      <td>2.000000</td>\n",
              "      <td>3.000000</td>\n",
              "      <td>3.000000</td>\n",
              "      <td>3.000000</td>\n",
              "      <td>2.000000</td>\n",
              "      <td>0.00000</td>\n",
              "      <td>0.000000</td>\n",
              "      <td>0.000000</td>\n",
              "    </tr>\n",
              "    <tr>\n",
              "      <th>50%</th>\n",
              "      <td>12987.500000</td>\n",
              "      <td>65319.500000</td>\n",
              "      <td>1.000000</td>\n",
              "      <td>1.000000</td>\n",
              "      <td>40.000000</td>\n",
              "      <td>1.000000</td>\n",
              "      <td>1.000000</td>\n",
              "      <td>849.000000</td>\n",
              "      <td>3.000000</td>\n",
              "      <td>3.000000</td>\n",
              "      <td>3.000000</td>\n",
              "      <td>3.000000</td>\n",
              "      <td>3.000000</td>\n",
              "      <td>4.000000</td>\n",
              "      <td>4.000000</td>\n",
              "      <td>4.000000</td>\n",
              "      <td>4.000000</td>\n",
              "      <td>4.000000</td>\n",
              "      <td>4.000000</td>\n",
              "      <td>3.000000</td>\n",
              "      <td>4.000000</td>\n",
              "      <td>3.000000</td>\n",
              "      <td>0.00000</td>\n",
              "      <td>0.000000</td>\n",
              "      <td>0.000000</td>\n",
              "    </tr>\n",
              "    <tr>\n",
              "      <th>75%</th>\n",
              "      <td>19481.250000</td>\n",
              "      <td>97584.250000</td>\n",
              "      <td>1.000000</td>\n",
              "      <td>1.000000</td>\n",
              "      <td>51.000000</td>\n",
              "      <td>1.000000</td>\n",
              "      <td>2.000000</td>\n",
              "      <td>1744.000000</td>\n",
              "      <td>4.000000</td>\n",
              "      <td>4.000000</td>\n",
              "      <td>4.000000</td>\n",
              "      <td>4.000000</td>\n",
              "      <td>4.000000</td>\n",
              "      <td>4.000000</td>\n",
              "      <td>5.000000</td>\n",
              "      <td>4.000000</td>\n",
              "      <td>4.000000</td>\n",
              "      <td>4.000000</td>\n",
              "      <td>5.000000</td>\n",
              "      <td>4.000000</td>\n",
              "      <td>5.000000</td>\n",
              "      <td>4.000000</td>\n",
              "      <td>12.00000</td>\n",
              "      <td>13.000000</td>\n",
              "      <td>1.000000</td>\n",
              "    </tr>\n",
              "    <tr>\n",
              "      <th>max</th>\n",
              "      <td>25975.000000</td>\n",
              "      <td>129877.000000</td>\n",
              "      <td>1.000000</td>\n",
              "      <td>1.000000</td>\n",
              "      <td>85.000000</td>\n",
              "      <td>1.000000</td>\n",
              "      <td>2.000000</td>\n",
              "      <td>4983.000000</td>\n",
              "      <td>5.000000</td>\n",
              "      <td>5.000000</td>\n",
              "      <td>5.000000</td>\n",
              "      <td>5.000000</td>\n",
              "      <td>5.000000</td>\n",
              "      <td>5.000000</td>\n",
              "      <td>5.000000</td>\n",
              "      <td>5.000000</td>\n",
              "      <td>5.000000</td>\n",
              "      <td>5.000000</td>\n",
              "      <td>5.000000</td>\n",
              "      <td>5.000000</td>\n",
              "      <td>5.000000</td>\n",
              "      <td>5.000000</td>\n",
              "      <td>1128.00000</td>\n",
              "      <td>1115.000000</td>\n",
              "      <td>1.000000</td>\n",
              "    </tr>\n",
              "  </tbody>\n",
              "</table>\n",
              "</div>"
            ],
            "text/plain": [
              "         Unnamed: 0             id  ...  Arrival Delay in Minutes  satisfaction\n",
              "count  25976.000000   25976.000000  ...              25976.000000  25976.000000\n",
              "mean   12987.500000   65005.657992  ...                 14.693756      0.438982\n",
              "std     7498.769632   37611.526647  ...                 37.466787      0.496272\n",
              "min        0.000000      17.000000  ...                  0.000000      0.000000\n",
              "25%     6493.750000   32170.500000  ...                  0.000000      0.000000\n",
              "50%    12987.500000   65319.500000  ...                  0.000000      0.000000\n",
              "75%    19481.250000   97584.250000  ...                 13.000000      1.000000\n",
              "max    25975.000000  129877.000000  ...               1115.000000      1.000000\n",
              "\n",
              "[8 rows x 25 columns]"
            ]
          },
          "metadata": {},
          "execution_count": 85
        }
      ]
    },
    {
      "cell_type": "markdown",
      "metadata": {
        "id": "_AB2BVUX_R-a"
      },
      "source": [
        "\n",
        "**CORRELAÇÃO LINEAR**"
      ]
    },
    {
      "cell_type": "code",
      "metadata": {
        "id": "ZFIfwjIE_la_"
      },
      "source": [
        "mpl.rcParams['figure.dpi'] = 200  #Parâmetros para os gráficos"
      ],
      "execution_count": null,
      "outputs": []
    },
    {
      "cell_type": "code",
      "metadata": {
        "id": "MO3Phtje_n8T"
      },
      "source": [
        "features_response = df_train.columns.tolist()"
      ],
      "execution_count": null,
      "outputs": []
    },
    {
      "cell_type": "code",
      "metadata": {
        "id": "fz4cfzRO_-wy"
      },
      "source": [
        "items_to_remove = ['Unnamed: 0', 'id']\n"
      ],
      "execution_count": null,
      "outputs": []
    },
    {
      "cell_type": "code",
      "metadata": {
        "colab": {
          "base_uri": "https://localhost:8080/"
        },
        "id": "84nQm9jfPv5M",
        "outputId": "bca2d3ce-ba06-41d5-d904-8fde18322ddf"
      },
      "source": [
        "feature_response = [item for item in features_response if item not in items_to_remove]\n",
        "features_response\n"
      ],
      "execution_count": null,
      "outputs": [
        {
          "output_type": "execute_result",
          "data": {
            "text/plain": [
              "['Unnamed:_0',\n",
              " 'id',\n",
              " 'Gender',\n",
              " 'Customer_Type',\n",
              " 'Age',\n",
              " 'Type_of_Travel',\n",
              " 'Class',\n",
              " 'Flight_Distance',\n",
              " 'Inflight_wifi_service',\n",
              " 'Departure/Arrival_time_convenient',\n",
              " 'Ease_of_Online_booking',\n",
              " 'Gate_location',\n",
              " 'Food_and_drink',\n",
              " 'Online_boarding',\n",
              " 'Seat_comfort',\n",
              " 'Inflight_entertainment',\n",
              " 'On-board_service',\n",
              " 'Leg_room_service',\n",
              " 'Baggage_handling',\n",
              " 'Checkin_service',\n",
              " 'Inflight_service',\n",
              " 'Cleanliness',\n",
              " 'Departure_Delay_in_Minutes',\n",
              " 'Arrival_Delay_in_Minutes',\n",
              " 'satisfaction']"
            ]
          },
          "metadata": {},
          "execution_count": 19
        }
      ]
    },
    {
      "cell_type": "code",
      "metadata": {
        "colab": {
          "base_uri": "https://localhost:8080/",
          "height": 682
        },
        "id": "kjHmS5o7QDHF",
        "outputId": "774673d8-bcc8-4e93-c32b-31b4bf9b360e"
      },
      "source": [
        "# CÁLCULO DA CORREÇÃO ENTRE AS VARIÁVEIS\n",
        "\n",
        "corr = df_train[features_response].corr()\n",
        "corr.iloc[2:21,2:21]"
      ],
      "execution_count": null,
      "outputs": [
        {
          "output_type": "execute_result",
          "data": {
            "text/html": [
              "<div>\n",
              "<style scoped>\n",
              "    .dataframe tbody tr th:only-of-type {\n",
              "        vertical-align: middle;\n",
              "    }\n",
              "\n",
              "    .dataframe tbody tr th {\n",
              "        vertical-align: top;\n",
              "    }\n",
              "\n",
              "    .dataframe thead th {\n",
              "        text-align: right;\n",
              "    }\n",
              "</style>\n",
              "<table border=\"1\" class=\"dataframe\">\n",
              "  <thead>\n",
              "    <tr style=\"text-align: right;\">\n",
              "      <th></th>\n",
              "      <th>Gender</th>\n",
              "      <th>Customer_Type</th>\n",
              "      <th>Age</th>\n",
              "      <th>Type_of_Travel</th>\n",
              "      <th>Class</th>\n",
              "      <th>Flight_Distance</th>\n",
              "      <th>Inflight_wifi_service</th>\n",
              "      <th>Departure/Arrival_time_convenient</th>\n",
              "      <th>Ease_of_Online_booking</th>\n",
              "      <th>Gate_location</th>\n",
              "      <th>Food_and_drink</th>\n",
              "      <th>Online_boarding</th>\n",
              "      <th>Seat_comfort</th>\n",
              "      <th>Inflight_entertainment</th>\n",
              "      <th>On-board_service</th>\n",
              "      <th>Leg_room_service</th>\n",
              "      <th>Baggage_handling</th>\n",
              "      <th>Checkin_service</th>\n",
              "      <th>Inflight_service</th>\n",
              "    </tr>\n",
              "  </thead>\n",
              "  <tbody>\n",
              "    <tr>\n",
              "      <th>Gender</th>\n",
              "      <td>1.000000</td>\n",
              "      <td>-0.031732</td>\n",
              "      <td>-0.008928</td>\n",
              "      <td>0.006909</td>\n",
              "      <td>-0.008253</td>\n",
              "      <td>-0.005828</td>\n",
              "      <td>-0.008974</td>\n",
              "      <td>-0.009142</td>\n",
              "      <td>-0.006951</td>\n",
              "      <td>-0.000333</td>\n",
              "      <td>-0.005772</td>\n",
              "      <td>0.042260</td>\n",
              "      <td>0.026502</td>\n",
              "      <td>-0.006117</td>\n",
              "      <td>-0.008156</td>\n",
              "      <td>-0.031798</td>\n",
              "      <td>-0.037391</td>\n",
              "      <td>-0.010563</td>\n",
              "      <td>-0.039410</td>\n",
              "    </tr>\n",
              "    <tr>\n",
              "      <th>Customer_Type</th>\n",
              "      <td>-0.031732</td>\n",
              "      <td>1.000000</td>\n",
              "      <td>0.281674</td>\n",
              "      <td>-0.308333</td>\n",
              "      <td>0.105735</td>\n",
              "      <td>0.225200</td>\n",
              "      <td>0.007543</td>\n",
              "      <td>0.206869</td>\n",
              "      <td>0.019509</td>\n",
              "      <td>-0.006078</td>\n",
              "      <td>0.059454</td>\n",
              "      <td>0.189262</td>\n",
              "      <td>0.159484</td>\n",
              "      <td>0.109930</td>\n",
              "      <td>0.056560</td>\n",
              "      <td>0.047868</td>\n",
              "      <td>-0.024723</td>\n",
              "      <td>0.032177</td>\n",
              "      <td>-0.022670</td>\n",
              "    </tr>\n",
              "    <tr>\n",
              "      <th>Age</th>\n",
              "      <td>-0.008928</td>\n",
              "      <td>0.281674</td>\n",
              "      <td>1.000000</td>\n",
              "      <td>0.048524</td>\n",
              "      <td>0.140565</td>\n",
              "      <td>0.099461</td>\n",
              "      <td>0.017859</td>\n",
              "      <td>0.038125</td>\n",
              "      <td>0.024842</td>\n",
              "      <td>-0.001330</td>\n",
              "      <td>0.023000</td>\n",
              "      <td>0.208939</td>\n",
              "      <td>0.160277</td>\n",
              "      <td>0.076444</td>\n",
              "      <td>0.057594</td>\n",
              "      <td>0.040583</td>\n",
              "      <td>-0.047529</td>\n",
              "      <td>0.035482</td>\n",
              "      <td>-0.049427</td>\n",
              "    </tr>\n",
              "    <tr>\n",
              "      <th>Type_of_Travel</th>\n",
              "      <td>0.006909</td>\n",
              "      <td>-0.308333</td>\n",
              "      <td>0.048524</td>\n",
              "      <td>1.000000</td>\n",
              "      <td>0.545257</td>\n",
              "      <td>0.267344</td>\n",
              "      <td>0.105085</td>\n",
              "      <td>-0.259763</td>\n",
              "      <td>0.133511</td>\n",
              "      <td>0.030700</td>\n",
              "      <td>0.063439</td>\n",
              "      <td>0.224803</td>\n",
              "      <td>0.124399</td>\n",
              "      <td>0.148199</td>\n",
              "      <td>0.056543</td>\n",
              "      <td>0.138803</td>\n",
              "      <td>0.031321</td>\n",
              "      <td>-0.016751</td>\n",
              "      <td>0.022599</td>\n",
              "    </tr>\n",
              "    <tr>\n",
              "      <th>Class</th>\n",
              "      <td>-0.008253</td>\n",
              "      <td>0.105735</td>\n",
              "      <td>0.140565</td>\n",
              "      <td>0.545257</td>\n",
              "      <td>1.000000</td>\n",
              "      <td>0.451211</td>\n",
              "      <td>0.036279</td>\n",
              "      <td>-0.092788</td>\n",
              "      <td>0.106391</td>\n",
              "      <td>0.004150</td>\n",
              "      <td>0.085908</td>\n",
              "      <td>0.322924</td>\n",
              "      <td>0.227444</td>\n",
              "      <td>0.194366</td>\n",
              "      <td>0.209505</td>\n",
              "      <td>0.204964</td>\n",
              "      <td>0.160460</td>\n",
              "      <td>0.151613</td>\n",
              "      <td>0.156353</td>\n",
              "    </tr>\n",
              "    <tr>\n",
              "      <th>Flight_Distance</th>\n",
              "      <td>-0.005828</td>\n",
              "      <td>0.225200</td>\n",
              "      <td>0.099461</td>\n",
              "      <td>0.267344</td>\n",
              "      <td>0.451211</td>\n",
              "      <td>1.000000</td>\n",
              "      <td>0.007131</td>\n",
              "      <td>-0.020043</td>\n",
              "      <td>0.065717</td>\n",
              "      <td>0.004793</td>\n",
              "      <td>0.056994</td>\n",
              "      <td>0.214869</td>\n",
              "      <td>0.157333</td>\n",
              "      <td>0.128740</td>\n",
              "      <td>0.109526</td>\n",
              "      <td>0.133916</td>\n",
              "      <td>0.063184</td>\n",
              "      <td>0.073072</td>\n",
              "      <td>0.057540</td>\n",
              "    </tr>\n",
              "    <tr>\n",
              "      <th>Inflight_wifi_service</th>\n",
              "      <td>-0.008974</td>\n",
              "      <td>0.007543</td>\n",
              "      <td>0.017859</td>\n",
              "      <td>0.105085</td>\n",
              "      <td>0.036279</td>\n",
              "      <td>0.007131</td>\n",
              "      <td>1.000000</td>\n",
              "      <td>0.343845</td>\n",
              "      <td>0.715856</td>\n",
              "      <td>0.336248</td>\n",
              "      <td>0.134718</td>\n",
              "      <td>0.456970</td>\n",
              "      <td>0.122658</td>\n",
              "      <td>0.209321</td>\n",
              "      <td>0.121500</td>\n",
              "      <td>0.160473</td>\n",
              "      <td>0.120923</td>\n",
              "      <td>0.043193</td>\n",
              "      <td>0.110441</td>\n",
              "    </tr>\n",
              "    <tr>\n",
              "      <th>Departure/Arrival_time_convenient</th>\n",
              "      <td>-0.009142</td>\n",
              "      <td>0.206869</td>\n",
              "      <td>0.038125</td>\n",
              "      <td>-0.259763</td>\n",
              "      <td>-0.092788</td>\n",
              "      <td>-0.020043</td>\n",
              "      <td>0.343845</td>\n",
              "      <td>1.000000</td>\n",
              "      <td>0.436961</td>\n",
              "      <td>0.444757</td>\n",
              "      <td>0.004906</td>\n",
              "      <td>0.070119</td>\n",
              "      <td>0.011344</td>\n",
              "      <td>-0.004861</td>\n",
              "      <td>0.068882</td>\n",
              "      <td>0.012441</td>\n",
              "      <td>0.072126</td>\n",
              "      <td>0.093333</td>\n",
              "      <td>0.073318</td>\n",
              "    </tr>\n",
              "    <tr>\n",
              "      <th>Ease_of_Online_booking</th>\n",
              "      <td>-0.006951</td>\n",
              "      <td>0.019509</td>\n",
              "      <td>0.024842</td>\n",
              "      <td>0.133511</td>\n",
              "      <td>0.106391</td>\n",
              "      <td>0.065717</td>\n",
              "      <td>0.715856</td>\n",
              "      <td>0.436961</td>\n",
              "      <td>1.000000</td>\n",
              "      <td>0.458655</td>\n",
              "      <td>0.031873</td>\n",
              "      <td>0.404074</td>\n",
              "      <td>0.030014</td>\n",
              "      <td>0.047032</td>\n",
              "      <td>0.038833</td>\n",
              "      <td>0.107601</td>\n",
              "      <td>0.038762</td>\n",
              "      <td>0.011081</td>\n",
              "      <td>0.035272</td>\n",
              "    </tr>\n",
              "    <tr>\n",
              "      <th>Gate_location</th>\n",
              "      <td>-0.000333</td>\n",
              "      <td>-0.006078</td>\n",
              "      <td>-0.001330</td>\n",
              "      <td>0.030700</td>\n",
              "      <td>0.004150</td>\n",
              "      <td>0.004793</td>\n",
              "      <td>0.336248</td>\n",
              "      <td>0.444757</td>\n",
              "      <td>0.458655</td>\n",
              "      <td>1.000000</td>\n",
              "      <td>-0.001159</td>\n",
              "      <td>0.001688</td>\n",
              "      <td>0.003669</td>\n",
              "      <td>0.003517</td>\n",
              "      <td>-0.028373</td>\n",
              "      <td>-0.005873</td>\n",
              "      <td>0.002313</td>\n",
              "      <td>-0.035427</td>\n",
              "      <td>0.001681</td>\n",
              "    </tr>\n",
              "    <tr>\n",
              "      <th>Food_and_drink</th>\n",
              "      <td>-0.005772</td>\n",
              "      <td>0.059454</td>\n",
              "      <td>0.023000</td>\n",
              "      <td>0.063439</td>\n",
              "      <td>0.085908</td>\n",
              "      <td>0.056994</td>\n",
              "      <td>0.134718</td>\n",
              "      <td>0.004906</td>\n",
              "      <td>0.031873</td>\n",
              "      <td>-0.001159</td>\n",
              "      <td>1.000000</td>\n",
              "      <td>0.234468</td>\n",
              "      <td>0.574556</td>\n",
              "      <td>0.622512</td>\n",
              "      <td>0.059073</td>\n",
              "      <td>0.032498</td>\n",
              "      <td>0.034746</td>\n",
              "      <td>0.087299</td>\n",
              "      <td>0.033993</td>\n",
              "    </tr>\n",
              "    <tr>\n",
              "      <th>Online_boarding</th>\n",
              "      <td>0.042260</td>\n",
              "      <td>0.189262</td>\n",
              "      <td>0.208939</td>\n",
              "      <td>0.224803</td>\n",
              "      <td>0.322924</td>\n",
              "      <td>0.214869</td>\n",
              "      <td>0.456970</td>\n",
              "      <td>0.070119</td>\n",
              "      <td>0.404074</td>\n",
              "      <td>0.001688</td>\n",
              "      <td>0.234468</td>\n",
              "      <td>1.000000</td>\n",
              "      <td>0.420211</td>\n",
              "      <td>0.285066</td>\n",
              "      <td>0.155443</td>\n",
              "      <td>0.123950</td>\n",
              "      <td>0.083280</td>\n",
              "      <td>0.204462</td>\n",
              "      <td>0.074573</td>\n",
              "    </tr>\n",
              "    <tr>\n",
              "      <th>Seat_comfort</th>\n",
              "      <td>0.026502</td>\n",
              "      <td>0.159484</td>\n",
              "      <td>0.160277</td>\n",
              "      <td>0.124399</td>\n",
              "      <td>0.227444</td>\n",
              "      <td>0.157333</td>\n",
              "      <td>0.122658</td>\n",
              "      <td>0.011344</td>\n",
              "      <td>0.030014</td>\n",
              "      <td>0.003669</td>\n",
              "      <td>0.574556</td>\n",
              "      <td>0.420211</td>\n",
              "      <td>1.000000</td>\n",
              "      <td>0.610590</td>\n",
              "      <td>0.131971</td>\n",
              "      <td>0.105559</td>\n",
              "      <td>0.074542</td>\n",
              "      <td>0.191854</td>\n",
              "      <td>0.069218</td>\n",
              "    </tr>\n",
              "    <tr>\n",
              "      <th>Inflight_entertainment</th>\n",
              "      <td>-0.006117</td>\n",
              "      <td>0.109930</td>\n",
              "      <td>0.076444</td>\n",
              "      <td>0.148199</td>\n",
              "      <td>0.194366</td>\n",
              "      <td>0.128740</td>\n",
              "      <td>0.209321</td>\n",
              "      <td>-0.004861</td>\n",
              "      <td>0.047032</td>\n",
              "      <td>0.003517</td>\n",
              "      <td>0.622512</td>\n",
              "      <td>0.285066</td>\n",
              "      <td>0.610590</td>\n",
              "      <td>1.000000</td>\n",
              "      <td>0.420153</td>\n",
              "      <td>0.299692</td>\n",
              "      <td>0.378210</td>\n",
              "      <td>0.120867</td>\n",
              "      <td>0.404855</td>\n",
              "    </tr>\n",
              "    <tr>\n",
              "      <th>On-board_service</th>\n",
              "      <td>-0.008156</td>\n",
              "      <td>0.056560</td>\n",
              "      <td>0.057594</td>\n",
              "      <td>0.056543</td>\n",
              "      <td>0.209505</td>\n",
              "      <td>0.109526</td>\n",
              "      <td>0.121500</td>\n",
              "      <td>0.068882</td>\n",
              "      <td>0.038833</td>\n",
              "      <td>-0.028373</td>\n",
              "      <td>0.059073</td>\n",
              "      <td>0.155443</td>\n",
              "      <td>0.131971</td>\n",
              "      <td>0.420153</td>\n",
              "      <td>1.000000</td>\n",
              "      <td>0.355495</td>\n",
              "      <td>0.519134</td>\n",
              "      <td>0.243914</td>\n",
              "      <td>0.550782</td>\n",
              "    </tr>\n",
              "    <tr>\n",
              "      <th>Leg_room_service</th>\n",
              "      <td>-0.031798</td>\n",
              "      <td>0.047868</td>\n",
              "      <td>0.040583</td>\n",
              "      <td>0.138803</td>\n",
              "      <td>0.204964</td>\n",
              "      <td>0.133916</td>\n",
              "      <td>0.160473</td>\n",
              "      <td>0.012441</td>\n",
              "      <td>0.107601</td>\n",
              "      <td>-0.005873</td>\n",
              "      <td>0.032498</td>\n",
              "      <td>0.123950</td>\n",
              "      <td>0.105559</td>\n",
              "      <td>0.299692</td>\n",
              "      <td>0.355495</td>\n",
              "      <td>1.000000</td>\n",
              "      <td>0.369544</td>\n",
              "      <td>0.153137</td>\n",
              "      <td>0.368656</td>\n",
              "    </tr>\n",
              "    <tr>\n",
              "      <th>Baggage_handling</th>\n",
              "      <td>-0.037391</td>\n",
              "      <td>-0.024723</td>\n",
              "      <td>-0.047529</td>\n",
              "      <td>0.031321</td>\n",
              "      <td>0.160460</td>\n",
              "      <td>0.063184</td>\n",
              "      <td>0.120923</td>\n",
              "      <td>0.072126</td>\n",
              "      <td>0.038762</td>\n",
              "      <td>0.002313</td>\n",
              "      <td>0.034746</td>\n",
              "      <td>0.083280</td>\n",
              "      <td>0.074542</td>\n",
              "      <td>0.378210</td>\n",
              "      <td>0.519134</td>\n",
              "      <td>0.369544</td>\n",
              "      <td>1.000000</td>\n",
              "      <td>0.233122</td>\n",
              "      <td>0.628561</td>\n",
              "    </tr>\n",
              "    <tr>\n",
              "      <th>Checkin_service</th>\n",
              "      <td>-0.010563</td>\n",
              "      <td>0.032177</td>\n",
              "      <td>0.035482</td>\n",
              "      <td>-0.016751</td>\n",
              "      <td>0.151613</td>\n",
              "      <td>0.073072</td>\n",
              "      <td>0.043193</td>\n",
              "      <td>0.093333</td>\n",
              "      <td>0.011081</td>\n",
              "      <td>-0.035427</td>\n",
              "      <td>0.087299</td>\n",
              "      <td>0.204462</td>\n",
              "      <td>0.191854</td>\n",
              "      <td>0.120867</td>\n",
              "      <td>0.243914</td>\n",
              "      <td>0.153137</td>\n",
              "      <td>0.233122</td>\n",
              "      <td>1.000000</td>\n",
              "      <td>0.237197</td>\n",
              "    </tr>\n",
              "    <tr>\n",
              "      <th>Inflight_service</th>\n",
              "      <td>-0.039410</td>\n",
              "      <td>-0.022670</td>\n",
              "      <td>-0.049427</td>\n",
              "      <td>0.022599</td>\n",
              "      <td>0.156353</td>\n",
              "      <td>0.057540</td>\n",
              "      <td>0.110441</td>\n",
              "      <td>0.073318</td>\n",
              "      <td>0.035272</td>\n",
              "      <td>0.001681</td>\n",
              "      <td>0.033993</td>\n",
              "      <td>0.074573</td>\n",
              "      <td>0.069218</td>\n",
              "      <td>0.404855</td>\n",
              "      <td>0.550782</td>\n",
              "      <td>0.368656</td>\n",
              "      <td>0.628561</td>\n",
              "      <td>0.237197</td>\n",
              "      <td>1.000000</td>\n",
              "    </tr>\n",
              "  </tbody>\n",
              "</table>\n",
              "</div>"
            ],
            "text/plain": [
              "                                     Gender  ...  Inflight_service\n",
              "Gender                             1.000000  ...         -0.039410\n",
              "Customer_Type                     -0.031732  ...         -0.022670\n",
              "Age                               -0.008928  ...         -0.049427\n",
              "Type_of_Travel                     0.006909  ...          0.022599\n",
              "Class                             -0.008253  ...          0.156353\n",
              "Flight_Distance                   -0.005828  ...          0.057540\n",
              "Inflight_wifi_service             -0.008974  ...          0.110441\n",
              "Departure/Arrival_time_convenient -0.009142  ...          0.073318\n",
              "Ease_of_Online_booking            -0.006951  ...          0.035272\n",
              "Gate_location                     -0.000333  ...          0.001681\n",
              "Food_and_drink                    -0.005772  ...          0.033993\n",
              "Online_boarding                    0.042260  ...          0.074573\n",
              "Seat_comfort                       0.026502  ...          0.069218\n",
              "Inflight_entertainment            -0.006117  ...          0.404855\n",
              "On-board_service                  -0.008156  ...          0.550782\n",
              "Leg_room_service                  -0.031798  ...          0.368656\n",
              "Baggage_handling                  -0.037391  ...          0.628561\n",
              "Checkin_service                   -0.010563  ...          0.237197\n",
              "Inflight_service                  -0.039410  ...          1.000000\n",
              "\n",
              "[19 rows x 19 columns]"
            ]
          },
          "metadata": {},
          "execution_count": 20
        }
      ]
    },
    {
      "cell_type": "code",
      "metadata": {
        "colab": {
          "base_uri": "https://localhost:8080/",
          "height": 1000
        },
        "id": "0xzgGi2sQHks",
        "outputId": "58eceba1-c40e-4f6a-e9af-d48b903f7b91"
      },
      "source": [
        "sns.heatmap(corr,\n",
        "           xticklabels=corr.columns.values,\n",
        "           yticklabels=corr.columns.values,\n",
        "           center=0)"
      ],
      "execution_count": null,
      "outputs": [
        {
          "output_type": "execute_result",
          "data": {
            "text/plain": [
              "<matplotlib.axes._subplots.AxesSubplot at 0x7f234883d2d0>"
            ]
          },
          "metadata": {},
          "execution_count": 21
        },
        {
          "output_type": "display_data",
          "data": {
            "image/png": "[encoded data removed]",
            "text/plain": [
              "<Figure size 1200x800 with 2 Axes>"
            ]
          },
          "metadata": {
            "needs_background": "light"
          }
        }
      ]
    },
    {
      "cell_type": "markdown",
      "metadata": {
        "id": "aZ6NJlELpJTF"
      },
      "source": [
        "# MODELAGEM - REGRESSÃO LOGÍSTICA\n"
      ]
    },
    {
      "cell_type": "markdown",
      "metadata": {
        "id": "6CcIkft_4Myp"
      },
      "source": [
        "12. visão geral da média de satisfação"
      ]
    },
    {
      "cell_type": "code",
      "metadata": {
        "colab": {
          "base_uri": "https://localhost:8080/"
        },
        "id": "Hodi76yi4QDU",
        "outputId": "7b10ca5c-110a-4d1d-a715-7d731ee16987"
      },
      "source": [
        "overall_satisfaction_rate = df_train['satisfaction'].mean()\n",
        "overall_satisfaction_rate"
      ],
      "execution_count": null,
      "outputs": [
        {
          "output_type": "execute_result",
          "data": {
            "text/plain": [
              "0.43333269171542965"
            ]
          },
          "metadata": {},
          "execution_count": 22
        }
      ]
    },
    {
      "cell_type": "markdown",
      "metadata": {
        "id": "CxL9GWMGD0UE"
      },
      "source": [
        "As variáveis escolhidas inicialmente para a regressão logística foram a distância do voo e a idade dos passageiros, porque apresentaram maiores correlações com a satisfação"
      ]
    },
    {
      "cell_type": "code",
      "metadata": {
        "colab": {
          "base_uri": "https://localhost:8080/",
          "height": 454
        },
        "id": "hyb9xBI84e_b",
        "outputId": "d6ada7ad-6286-47d6-bcaf-574fcd2707e9"
      },
      "source": [
        "group_by_Flight_Distance_y = df_train.groupby('Flight_Distance').agg({'satisfaction':np.mean})\n",
        "group_by_Flight_Distance_y"
      ],
      "execution_count": null,
      "outputs": [
        {
          "output_type": "execute_result",
          "data": {
            "text/html": [
              "<div>\n",
              "<style scoped>\n",
              "    .dataframe tbody tr th:only-of-type {\n",
              "        vertical-align: middle;\n",
              "    }\n",
              "\n",
              "    .dataframe tbody tr th {\n",
              "        vertical-align: top;\n",
              "    }\n",
              "\n",
              "    .dataframe thead th {\n",
              "        text-align: right;\n",
              "    }\n",
              "</style>\n",
              "<table border=\"1\" class=\"dataframe\">\n",
              "  <thead>\n",
              "    <tr style=\"text-align: right;\">\n",
              "      <th></th>\n",
              "      <th>satisfaction</th>\n",
              "    </tr>\n",
              "    <tr>\n",
              "      <th>Flight_Distance</th>\n",
              "      <th></th>\n",
              "    </tr>\n",
              "  </thead>\n",
              "  <tbody>\n",
              "    <tr>\n",
              "      <th>31</th>\n",
              "      <td>0.375000</td>\n",
              "    </tr>\n",
              "    <tr>\n",
              "      <th>56</th>\n",
              "      <td>0.500000</td>\n",
              "    </tr>\n",
              "    <tr>\n",
              "      <th>67</th>\n",
              "      <td>0.351562</td>\n",
              "    </tr>\n",
              "    <tr>\n",
              "      <th>73</th>\n",
              "      <td>0.288136</td>\n",
              "    </tr>\n",
              "    <tr>\n",
              "      <th>74</th>\n",
              "      <td>0.266667</td>\n",
              "    </tr>\n",
              "    <tr>\n",
              "      <th>...</th>\n",
              "      <td>...</td>\n",
              "    </tr>\n",
              "    <tr>\n",
              "      <th>4243</th>\n",
              "      <td>0.611111</td>\n",
              "    </tr>\n",
              "    <tr>\n",
              "      <th>4502</th>\n",
              "      <td>0.500000</td>\n",
              "    </tr>\n",
              "    <tr>\n",
              "      <th>4817</th>\n",
              "      <td>0.200000</td>\n",
              "    </tr>\n",
              "    <tr>\n",
              "      <th>4963</th>\n",
              "      <td>0.461538</td>\n",
              "    </tr>\n",
              "    <tr>\n",
              "      <th>4983</th>\n",
              "      <td>0.750000</td>\n",
              "    </tr>\n",
              "  </tbody>\n",
              "</table>\n",
              "<p>3802 rows × 1 columns</p>\n",
              "</div>"
            ],
            "text/plain": [
              "                 satisfaction\n",
              "Flight_Distance              \n",
              "31                   0.375000\n",
              "56                   0.500000\n",
              "67                   0.351562\n",
              "73                   0.288136\n",
              "74                   0.266667\n",
              "...                       ...\n",
              "4243                 0.611111\n",
              "4502                 0.500000\n",
              "4817                 0.200000\n",
              "4963                 0.461538\n",
              "4983                 0.750000\n",
              "\n",
              "[3802 rows x 1 columns]"
            ]
          },
          "metadata": {},
          "execution_count": 23
        }
      ]
    },
    {
      "cell_type": "code",
      "metadata": {
        "colab": {
          "base_uri": "https://localhost:8080/",
          "height": 454
        },
        "id": "EFsW4tDWE1yD",
        "outputId": "ac46e5f0-b3ad-4cac-880a-522ef3c1d097"
      },
      "source": [
        "group_by_Flight_Distance_y = df_train.groupby('Age').agg({'satisfaction':np.mean})\n",
        "group_by_Flight_Distance_y"
      ],
      "execution_count": null,
      "outputs": [
        {
          "output_type": "execute_result",
          "data": {
            "text/html": [
              "<div>\n",
              "<style scoped>\n",
              "    .dataframe tbody tr th:only-of-type {\n",
              "        vertical-align: middle;\n",
              "    }\n",
              "\n",
              "    .dataframe tbody tr th {\n",
              "        vertical-align: top;\n",
              "    }\n",
              "\n",
              "    .dataframe thead th {\n",
              "        text-align: right;\n",
              "    }\n",
              "</style>\n",
              "<table border=\"1\" class=\"dataframe\">\n",
              "  <thead>\n",
              "    <tr style=\"text-align: right;\">\n",
              "      <th></th>\n",
              "      <th>satisfaction</th>\n",
              "    </tr>\n",
              "    <tr>\n",
              "      <th>Age</th>\n",
              "      <th></th>\n",
              "    </tr>\n",
              "  </thead>\n",
              "  <tbody>\n",
              "    <tr>\n",
              "      <th>7</th>\n",
              "      <td>0.099644</td>\n",
              "    </tr>\n",
              "    <tr>\n",
              "      <th>8</th>\n",
              "      <td>0.107813</td>\n",
              "    </tr>\n",
              "    <tr>\n",
              "      <th>9</th>\n",
              "      <td>0.137283</td>\n",
              "    </tr>\n",
              "    <tr>\n",
              "      <th>10</th>\n",
              "      <td>0.131772</td>\n",
              "    </tr>\n",
              "    <tr>\n",
              "      <th>11</th>\n",
              "      <td>0.160767</td>\n",
              "    </tr>\n",
              "    <tr>\n",
              "      <th>...</th>\n",
              "      <td>...</td>\n",
              "    </tr>\n",
              "    <tr>\n",
              "      <th>77</th>\n",
              "      <td>0.183908</td>\n",
              "    </tr>\n",
              "    <tr>\n",
              "      <th>78</th>\n",
              "      <td>0.333333</td>\n",
              "    </tr>\n",
              "    <tr>\n",
              "      <th>79</th>\n",
              "      <td>0.285714</td>\n",
              "    </tr>\n",
              "    <tr>\n",
              "      <th>80</th>\n",
              "      <td>0.192308</td>\n",
              "    </tr>\n",
              "    <tr>\n",
              "      <th>85</th>\n",
              "      <td>0.176471</td>\n",
              "    </tr>\n",
              "  </tbody>\n",
              "</table>\n",
              "<p>75 rows × 1 columns</p>\n",
              "</div>"
            ],
            "text/plain": [
              "     satisfaction\n",
              "Age              \n",
              "7        0.099644\n",
              "8        0.107813\n",
              "9        0.137283\n",
              "10       0.131772\n",
              "11       0.160767\n",
              "..            ...\n",
              "77       0.183908\n",
              "78       0.333333\n",
              "79       0.285714\n",
              "80       0.192308\n",
              "85       0.176471\n",
              "\n",
              "[75 rows x 1 columns]"
            ]
          },
          "metadata": {},
          "execution_count": 24
        }
      ]
    },
    {
      "cell_type": "markdown",
      "metadata": {
        "id": "rz6_h8gZ75O8"
      },
      "source": [
        "**Limite da decisão para regressão logística\n"
      ]
    },
    {
      "cell_type": "code",
      "metadata": {
        "id": "85j-GPWo8_tw"
      },
      "source": [
        "from sklearn.model_selection import train_test_split"
      ],
      "execution_count": null,
      "outputs": []
    },
    {
      "cell_type": "code",
      "metadata": {
        "id": "7QlxBy0R-sx6"
      },
      "source": [
        "# RENOMEANDO O DATASET - UTILIZAREMOS APENAS O arquivo df_train\n",
        "\n",
        "df = df_train"
      ],
      "execution_count": null,
      "outputs": []
    },
    {
      "cell_type": "code",
      "metadata": {
        "id": "9CBRzbcG-UnR"
      },
      "source": [
        "# CRIAÇÃO DA DIVISÃO TREINAMENTO / TESTE (dentro do arquivo df_train) para as variáveis IDADE (AGE) e TIPO DE VIAGEM (Type_of_Travel)\n",
        "\n",
        "X_train, X_test, y_train, y_test = train_test_split(\n",
        "df[['Age', 'Type_of_Travel']].values, df['satisfaction'].values,\n",
        "test_size=0.2, random_state=24)"
      ],
      "execution_count": null,
      "outputs": []
    },
    {
      "cell_type": "code",
      "metadata": {
        "colab": {
          "base_uri": "https://localhost:8080/"
        },
        "id": "059793EN-pQC",
        "outputId": "5802946c-32b8-4458-f1c9-b916dde96865"
      },
      "source": [
        "# TAMANHO DAS AMOSTRAS DE TREINO E DE TESTE\n",
        "\n",
        "print(X_train.shape)\n",
        "print(X_test.shape)"
      ],
      "execution_count": null,
      "outputs": [
        {
          "output_type": "stream",
          "name": "stdout",
          "text": [
            "(83123, 2)\n",
            "(20781, 2)\n"
          ]
        }
      ]
    },
    {
      "cell_type": "code",
      "metadata": {
        "id": "cOMJbFER-0_j"
      },
      "source": [
        "# IMPORTAÇÃO E OPÇÕES PADRÃO\n",
        "\n",
        "from sklearn.linear_model import LogisticRegression\n"
      ],
      "execution_count": null,
      "outputs": []
    },
    {
      "cell_type": "code",
      "metadata": {
        "id": "upd6iN69_K9j"
      },
      "source": [
        "lr_model = LogisticRegression(solver='liblinear')\n"
      ],
      "execution_count": null,
      "outputs": []
    },
    {
      "cell_type": "code",
      "metadata": {
        "colab": {
          "base_uri": "https://localhost:8080/"
        },
        "id": "Rm-Tb7yO_Mvi",
        "outputId": "2473165d-7979-4ede-d174-e5406eb81733"
      },
      "source": [
        "lr_model"
      ],
      "execution_count": null,
      "outputs": [
        {
          "output_type": "execute_result",
          "data": {
            "text/plain": [
              "LogisticRegression(C=1.0, class_weight=None, dual=False, fit_intercept=True,\n",
              "                   intercept_scaling=1, l1_ratio=None, max_iter=100,\n",
              "                   multi_class='auto', n_jobs=None, penalty='l2',\n",
              "                   random_state=None, solver='liblinear', tol=0.0001, verbose=0,\n",
              "                   warm_start=False)"
            ]
          },
          "metadata": {},
          "execution_count": 31
        }
      ]
    },
    {
      "cell_type": "code",
      "metadata": {
        "colab": {
          "base_uri": "https://localhost:8080/"
        },
        "id": "0crc-lE7_Oxl",
        "outputId": "d32c0496-96ab-4278-8cb1-2958f0d6b3da"
      },
      "source": [
        "# TREINAMENTO DO MODELO DE REGRESSAO LOGÍSTICA\n",
        "\n",
        "lr_model.fit(X_train, y_train)\n"
      ],
      "execution_count": null,
      "outputs": [
        {
          "output_type": "execute_result",
          "data": {
            "text/plain": [
              "LogisticRegression(C=1.0, class_weight=None, dual=False, fit_intercept=True,\n",
              "                   intercept_scaling=1, l1_ratio=None, max_iter=100,\n",
              "                   multi_class='auto', n_jobs=None, penalty='l2',\n",
              "                   random_state=None, solver='liblinear', tol=0.0001, verbose=0,\n",
              "                   warm_start=False)"
            ]
          },
          "metadata": {},
          "execution_count": 32
        }
      ]
    },
    {
      "cell_type": "code",
      "metadata": {
        "id": "8DBMZlW1_TSh"
      },
      "source": [
        "y_pred = lr_model.predict(X_test)\n"
      ],
      "execution_count": null,
      "outputs": []
    },
    {
      "cell_type": "code",
      "metadata": {
        "id": "E7e8OIGi_WRM"
      },
      "source": [
        "y_pred_proba = lr_model.predict_proba(X_test)\n"
      ],
      "execution_count": null,
      "outputs": []
    },
    {
      "cell_type": "code",
      "metadata": {
        "colab": {
          "base_uri": "https://localhost:8080/"
        },
        "id": "B0uxPnj6APHb",
        "outputId": "9c94440c-9b4f-4aad-d69e-d64f44e63caf"
      },
      "source": [
        "print(lr_model.coef_, lr_model.intercept_)\n"
      ],
      "execution_count": null,
      "outputs": [
        {
          "output_type": "stream",
          "name": "stdout",
          "text": [
            "[[0.02195416 2.54120355]] [-3.07315863]\n"
          ]
        }
      ]
    },
    {
      "cell_type": "code",
      "metadata": {
        "colab": {
          "base_uri": "https://localhost:8080/"
        },
        "id": "GhWwZZWbASb2",
        "outputId": "9707ea0b-f5ae-4cb8-e886-d7ed02adf266"
      },
      "source": [
        "np.ones((X_test.shape[0],1)).shape\n"
      ],
      "execution_count": null,
      "outputs": [
        {
          "output_type": "execute_result",
          "data": {
            "text/plain": [
              "(20781, 1)"
            ]
          },
          "metadata": {},
          "execution_count": 36
        }
      ]
    },
    {
      "cell_type": "code",
      "metadata": {
        "colab": {
          "base_uri": "https://localhost:8080/"
        },
        "id": "6ROwqUAKAUgI",
        "outputId": "ef06b6e3-8789-4c7e-d924-05b1e66af9fe"
      },
      "source": [
        "ones_and_features = np.hstack([np.ones((X_test.shape[0],1)), X_test])\n",
        "ones_and_features"
      ],
      "execution_count": null,
      "outputs": [
        {
          "output_type": "execute_result",
          "data": {
            "text/plain": [
              "array([[ 1., 32.,  1.],\n",
              "       [ 1., 15.,  1.],\n",
              "       [ 1., 35.,  1.],\n",
              "       ...,\n",
              "       [ 1., 46.,  1.],\n",
              "       [ 1., 48.,  1.],\n",
              "       [ 1., 38.,  1.]])"
            ]
          },
          "metadata": {},
          "execution_count": 37
        }
      ]
    },
    {
      "cell_type": "code",
      "metadata": {
        "colab": {
          "base_uri": "https://localhost:8080/"
        },
        "id": "IzxukJBFAYjm",
        "outputId": "8f4607dc-f002-4318-a899-27d175db37f6"
      },
      "source": [
        "intercept_and_coefs = np.concatenate([lr_model.intercept_.reshape(1,1), lr_model.coef_], axis=1)\n",
        "intercept_and_coefs"
      ],
      "execution_count": null,
      "outputs": [
        {
          "output_type": "execute_result",
          "data": {
            "text/plain": [
              "array([[-3.07315863,  0.02195416,  2.54120355]])"
            ]
          },
          "metadata": {},
          "execution_count": 38
        }
      ]
    },
    {
      "cell_type": "code",
      "metadata": {
        "id": "1q8878mrAhFv"
      },
      "source": [
        "X_lin_comb = np.dot(intercept_and_coefs, np.transpose(ones_and_features))\n"
      ],
      "execution_count": null,
      "outputs": []
    },
    {
      "cell_type": "code",
      "metadata": {
        "id": "tCwMmI1NBDu_"
      },
      "source": [
        "# CRIAÇÃO DE CURVA SIGMOID\n",
        "\n",
        "def sigmoid(X):\n",
        "    Y = 1 / (1 + np.exp(-X))\n",
        "    return Y"
      ],
      "execution_count": null,
      "outputs": []
    },
    {
      "cell_type": "code",
      "metadata": {
        "id": "QAMeokskAmd5"
      },
      "source": [
        "y_pred_proba_manual = sigmoid(X_lin_comb)\n"
      ],
      "execution_count": null,
      "outputs": []
    },
    {
      "cell_type": "code",
      "metadata": {
        "id": "CnOG-E-2Am8M"
      },
      "source": [
        "y_pred_manual = y_pred_proba_manual >= 0.5\n"
      ],
      "execution_count": null,
      "outputs": []
    },
    {
      "cell_type": "code",
      "metadata": {
        "colab": {
          "base_uri": "https://localhost:8080/"
        },
        "id": "WA-bD8lKBJ5t",
        "outputId": "f8e53449-6df3-4006-a590-9017cd4df3a6"
      },
      "source": [
        "# \n",
        "y_pred.shape\n"
      ],
      "execution_count": null,
      "outputs": [
        {
          "output_type": "execute_result",
          "data": {
            "text/plain": [
              "(20781,)"
            ]
          },
          "metadata": {},
          "execution_count": 43
        }
      ]
    },
    {
      "cell_type": "code",
      "metadata": {
        "colab": {
          "base_uri": "https://localhost:8080/"
        },
        "id": "e-11PjNtBLiE",
        "outputId": "f57df77e-4795-43b8-b0a5-2c64558cd539"
      },
      "source": [
        "# CÁLCULO DA PREDIÇÃO MANUAL\n",
        "\n",
        "y_pred_manual.shape\n"
      ],
      "execution_count": null,
      "outputs": [
        {
          "output_type": "execute_result",
          "data": {
            "text/plain": [
              "(1, 20781)"
            ]
          },
          "metadata": {},
          "execution_count": 44
        }
      ]
    },
    {
      "cell_type": "code",
      "metadata": {
        "colab": {
          "base_uri": "https://localhost:8080/"
        },
        "id": "sygWEC4rBNUU",
        "outputId": "553344d2-d626-4e0b-c140-193f319b13a4"
      },
      "source": [
        "# COMPARAÇÃO DOS ARRAYS, VERIFICANDO SE TODOS OS ELEMENTOS SÃO IGUAIS\n",
        "\n",
        "np.array_equal(y_pred.reshape(1,-1), y_pred_manual)\n"
      ],
      "execution_count": null,
      "outputs": [
        {
          "output_type": "execute_result",
          "data": {
            "text/plain": [
              "True"
            ]
          },
          "metadata": {},
          "execution_count": 45
        }
      ]
    },
    {
      "cell_type": "code",
      "metadata": {
        "id": "5lcZ1-TgBPQk"
      },
      "source": [
        "from sklearn.metrics import roc_auc_score\n"
      ],
      "execution_count": null,
      "outputs": []
    },
    {
      "cell_type": "code",
      "metadata": {
        "colab": {
          "base_uri": "https://localhost:8080/"
        },
        "id": "sWMdLJ_6BRDU",
        "outputId": "7309e09f-d2af-4dac-9d63-ffef17f4b092"
      },
      "source": [
        "y_test.shape\n"
      ],
      "execution_count": null,
      "outputs": [
        {
          "output_type": "execute_result",
          "data": {
            "text/plain": [
              "(20781,)"
            ]
          },
          "metadata": {},
          "execution_count": 47
        }
      ]
    },
    {
      "cell_type": "code",
      "metadata": {
        "colab": {
          "base_uri": "https://localhost:8080/"
        },
        "id": "lT3f2aFLBT9e",
        "outputId": "665d76ff-3e3a-48c5-8849-7dc246207481"
      },
      "source": [
        "y_pred_proba_manual.shape\n"
      ],
      "execution_count": null,
      "outputs": [
        {
          "output_type": "execute_result",
          "data": {
            "text/plain": [
              "(1, 20781)"
            ]
          },
          "metadata": {},
          "execution_count": 48
        }
      ]
    },
    {
      "cell_type": "markdown",
      "metadata": {
        "id": "ZXMvm6gaqOji"
      },
      "source": [
        "# **ÁRVORE DE DECISÕES**"
      ]
    },
    {
      "cell_type": "code",
      "metadata": {
        "id": "9YqwokVlBZfP"
      },
      "source": [
        "# VISUALIZAR ÁRVORES DE DECISÕES\n",
        "import graphviz "
      ],
      "execution_count": null,
      "outputs": []
    },
    {
      "cell_type": "code",
      "metadata": {
        "id": "WxqYlLjDuQCH"
      },
      "source": [
        "features_response = df.columns.tolist()"
      ],
      "execution_count": null,
      "outputs": []
    },
    {
      "cell_type": "code",
      "metadata": {
        "id": "OWiZD9cNucpd"
      },
      "source": [
        "items_to_remove = ['Unnamed:_0']"
      ],
      "execution_count": null,
      "outputs": []
    },
    {
      "cell_type": "code",
      "metadata": {
        "colab": {
          "base_uri": "https://localhost:8080/"
        },
        "id": "Wf-iNuApvQb6",
        "outputId": "853b5e14-25c8-49b1-89c1-6ff6d5548509"
      },
      "source": [
        "features_response = [item for item in features_response if item not in items_to_remove]\n",
        "features_response"
      ],
      "execution_count": null,
      "outputs": [
        {
          "output_type": "execute_result",
          "data": {
            "text/plain": [
              "['id',\n",
              " 'Gender',\n",
              " 'Customer_Type',\n",
              " 'Age',\n",
              " 'Type_of_Travel',\n",
              " 'Class',\n",
              " 'Flight_Distance',\n",
              " 'Inflight_wifi_service',\n",
              " 'Departure/Arrival_time_convenient',\n",
              " 'Ease_of_Online_booking',\n",
              " 'Gate_location',\n",
              " 'Food_and_drink',\n",
              " 'Online_boarding',\n",
              " 'Seat_comfort',\n",
              " 'Inflight_entertainment',\n",
              " 'On-board_service',\n",
              " 'Leg_room_service',\n",
              " 'Baggage_handling',\n",
              " 'Checkin_service',\n",
              " 'Inflight_service',\n",
              " 'Cleanliness',\n",
              " 'Departure_Delay_in_Minutes',\n",
              " 'Arrival_Delay_in_Minutes',\n",
              " 'satisfaction']"
            ]
          },
          "metadata": {},
          "execution_count": 52
        }
      ]
    },
    {
      "cell_type": "code",
      "metadata": {
        "id": "IbEtKhX8vVDK"
      },
      "source": [
        "from sklearn.model_selection import train_test_split\n",
        "from sklearn import tree"
      ],
      "execution_count": null,
      "outputs": []
    },
    {
      "cell_type": "code",
      "metadata": {
        "id": "aoOHNt5qvh9r"
      },
      "source": [
        "X_train, X_test, y_train, y_test = \\\n",
        "train_test_split(df[features_response[:-1]].values, df['satisfaction'].values,\n",
        "test_size=0.2, random_state=24)"
      ],
      "execution_count": null,
      "outputs": []
    },
    {
      "cell_type": "code",
      "metadata": {
        "id": "CYDKwNZovp-y"
      },
      "source": [
        "dt = tree.DecisionTreeClassifier(max_depth=3)\n"
      ],
      "execution_count": null,
      "outputs": []
    },
    {
      "cell_type": "code",
      "metadata": {
        "colab": {
          "base_uri": "https://localhost:8080/"
        },
        "id": "EpMT3bq7vuLT",
        "outputId": "4ca92f25-72ef-4c26-b0a7-b466e725cad6"
      },
      "source": [
        "dt.fit(X_train, y_train)\n"
      ],
      "execution_count": null,
      "outputs": [
        {
          "output_type": "execute_result",
          "data": {
            "text/plain": [
              "DecisionTreeClassifier(ccp_alpha=0.0, class_weight=None, criterion='gini',\n",
              "                       max_depth=3, max_features=None, max_leaf_nodes=None,\n",
              "                       min_impurity_decrease=0.0, min_impurity_split=None,\n",
              "                       min_samples_leaf=1, min_samples_split=2,\n",
              "                       min_weight_fraction_leaf=0.0, presort='deprecated',\n",
              "                       random_state=None, splitter='best')"
            ]
          },
          "metadata": {},
          "execution_count": 56
        }
      ]
    },
    {
      "cell_type": "code",
      "metadata": {
        "id": "Zbjg0D5-vwOV"
      },
      "source": [
        "\n",
        "dot_data = tree.export_graphviz(dt, out_file=None,\n",
        "                                filled=True, rounded=True,\n",
        "                                feature_names=features_response[:-1],\n",
        "                                proportion=True, class_names=['Not defaulted', 'Defaulted'])"
      ],
      "execution_count": null,
      "outputs": []
    },
    {
      "cell_type": "code",
      "metadata": {
        "colab": {
          "base_uri": "https://localhost:8080/",
          "height": 618
        },
        "id": "GJ_dEGCcv7GE",
        "outputId": "17979d31-5089-44b6-9d84-1c69186f8b40"
      },
      "source": [
        "graph = graphviz.Source(dot_data) \n",
        "graph"
      ],
      "execution_count": null,
      "outputs": [
        {
          "output_type": "execute_result",
          "data": {
            "text/plain": [
              "<graphviz.files.Source at 0x7f2339297750>"
            ],
            "image/svg+xml": "<?xml version=\"1.0\" encoding=\"UTF-8\" standalone=\"no\"?>\n<!DOCTYPE svg PUBLIC \"-//W3C//DTD SVG 1.1//EN\"\n \"http://www.w3.org/Graphics/SVG/1.1/DTD/svg11.dtd\">\n<!-- Generated by graphviz version 2.40.1 (20161225.0304)\n -->\n<!-- Title: Tree Pages: 1 -->\n<svg width=\"1322pt\" height=\"433pt\"\n viewBox=\"0.00 0.00 1322.00 433.00\" xmlns=\"http://www.w3.org/2000/svg\" xmlns:xlink=\"http://www.w3.org/1999/xlink\">\n<g id=\"graph0\" class=\"graph\" transform=\"scale(1 1) rotate(0) translate(4 429)\">\n<title>Tree</title>\n<polygon fill=\"#ffffff\" stroke=\"transparent\" points=\"-4,4 -4,-429 1318,-429 1318,4 -4,4\"/>\n<!-- 0 -->\n<g id=\"node1\" class=\"node\">\n<title>0</title>\n<path fill=\"#f9e2d1\" stroke=\"#000000\" d=\"M698,-425C698,-425 554,-425 554,-425 548,-425 542,-419 542,-413 542,-413 542,-354 542,-354 542,-348 548,-342 554,-342 554,-342 698,-342 698,-342 704,-342 710,-348 710,-354 710,-354 710,-413 710,-413 710,-419 704,-425 698,-425\"/>\n<text text-anchor=\"middle\" x=\"626\" y=\"-409.8\" font-family=\"Helvetica,sans-Serif\" font-size=\"14.00\" fill=\"#000000\">Online_boarding &lt;= 3.5</text>\n<text text-anchor=\"middle\" x=\"626\" y=\"-394.8\" font-family=\"Helvetica,sans-Serif\" font-size=\"14.00\" fill=\"#000000\">gini = 0.491</text>\n<text text-anchor=\"middle\" x=\"626\" y=\"-379.8\" font-family=\"Helvetica,sans-Serif\" font-size=\"14.00\" fill=\"#000000\">samples = 100.0%</text>\n<text text-anchor=\"middle\" x=\"626\" y=\"-364.8\" font-family=\"Helvetica,sans-Serif\" font-size=\"14.00\" fill=\"#000000\">value = [0.565, 0.435]</text>\n<text text-anchor=\"middle\" x=\"626\" y=\"-349.8\" font-family=\"Helvetica,sans-Serif\" font-size=\"14.00\" fill=\"#000000\">class = Not defaulted</text>\n</g>\n<!-- 1 -->\n<g id=\"node2\" class=\"node\">\n<title>1</title>\n<path fill=\"#ea975c\" stroke=\"#000000\" d=\"M605,-306C605,-306 443,-306 443,-306 437,-306 431,-300 431,-294 431,-294 431,-235 431,-235 431,-229 437,-223 443,-223 443,-223 605,-223 605,-223 611,-223 617,-229 617,-235 617,-235 617,-294 617,-294 617,-300 611,-306 605,-306\"/>\n<text text-anchor=\"middle\" x=\"524\" y=\"-290.8\" font-family=\"Helvetica,sans-Serif\" font-size=\"14.00\" fill=\"#000000\">Inflight_wifi_service &lt;= 0.5</text>\n<text text-anchor=\"middle\" x=\"524\" y=\"-275.8\" font-family=\"Helvetica,sans-Serif\" font-size=\"14.00\" fill=\"#000000\">gini = 0.254</text>\n<text text-anchor=\"middle\" x=\"524\" y=\"-260.8\" font-family=\"Helvetica,sans-Serif\" font-size=\"14.00\" fill=\"#000000\">samples = 50.3%</text>\n<text text-anchor=\"middle\" x=\"524\" y=\"-245.8\" font-family=\"Helvetica,sans-Serif\" font-size=\"14.00\" fill=\"#000000\">value = [0.851, 0.149]</text>\n<text text-anchor=\"middle\" x=\"524\" y=\"-230.8\" font-family=\"Helvetica,sans-Serif\" font-size=\"14.00\" fill=\"#000000\">class = Not defaulted</text>\n</g>\n<!-- 0&#45;&gt;1 -->\n<g id=\"edge1\" class=\"edge\">\n<title>0&#45;&gt;1</title>\n<path fill=\"none\" stroke=\"#000000\" d=\"M590.3253,-341.8796C582.6057,-332.8733 574.3695,-323.2644 566.4197,-313.9897\"/>\n<polygon fill=\"#000000\" stroke=\"#000000\" points=\"568.9923,-311.6129 559.8269,-306.2981 563.6775,-316.1684 568.9923,-311.6129\"/>\n<text text-anchor=\"middle\" x=\"557.9095\" y=\"-327.5244\" font-family=\"Helvetica,sans-Serif\" font-size=\"14.00\" fill=\"#000000\">True</text>\n</g>\n<!-- 8 -->\n<g id=\"node9\" class=\"node\">\n<title>8</title>\n<path fill=\"#84c2ef\" stroke=\"#000000\" d=\"M853.5,-306C853.5,-306 716.5,-306 716.5,-306 710.5,-306 704.5,-300 704.5,-294 704.5,-294 704.5,-235 704.5,-235 704.5,-229 710.5,-223 716.5,-223 716.5,-223 853.5,-223 853.5,-223 859.5,-223 865.5,-229 865.5,-235 865.5,-235 865.5,-294 865.5,-294 865.5,-300 859.5,-306 853.5,-306\"/>\n<text text-anchor=\"middle\" x=\"785\" y=\"-290.8\" font-family=\"Helvetica,sans-Serif\" font-size=\"14.00\" fill=\"#000000\">Type_of_Travel &lt;= 0.5</text>\n<text text-anchor=\"middle\" x=\"785\" y=\"-275.8\" font-family=\"Helvetica,sans-Serif\" font-size=\"14.00\" fill=\"#000000\">gini = 0.399</text>\n<text text-anchor=\"middle\" x=\"785\" y=\"-260.8\" font-family=\"Helvetica,sans-Serif\" font-size=\"14.00\" fill=\"#000000\">samples = 49.7%</text>\n<text text-anchor=\"middle\" x=\"785\" y=\"-245.8\" font-family=\"Helvetica,sans-Serif\" font-size=\"14.00\" fill=\"#000000\">value = [0.276, 0.724]</text>\n<text text-anchor=\"middle\" x=\"785\" y=\"-230.8\" font-family=\"Helvetica,sans-Serif\" font-size=\"14.00\" fill=\"#000000\">class = Defaulted</text>\n</g>\n<!-- 0&#45;&gt;8 -->\n<g id=\"edge8\" class=\"edge\">\n<title>0&#45;&gt;8</title>\n<path fill=\"none\" stroke=\"#000000\" d=\"M681.6105,-341.8796C694.4403,-332.2774 708.1852,-321.9903 721.3286,-312.1534\"/>\n<polygon fill=\"#000000\" stroke=\"#000000\" points=\"723.5121,-314.891 729.4209,-306.0969 719.3177,-309.2868 723.5121,-314.891\"/>\n<text text-anchor=\"middle\" x=\"725.8605\" y=\"-327.1421\" font-family=\"Helvetica,sans-Serif\" font-size=\"14.00\" fill=\"#000000\">False</text>\n</g>\n<!-- 2 -->\n<g id=\"node3\" class=\"node\">\n<title>2</title>\n<path fill=\"#399de5\" stroke=\"#000000\" d=\"M300,-187C300,-187 168,-187 168,-187 162,-187 156,-181 156,-175 156,-175 156,-116 156,-116 156,-110 162,-104 168,-104 168,-104 300,-104 300,-104 306,-104 312,-110 312,-116 312,-116 312,-175 312,-175 312,-181 306,-187 300,-187\"/>\n<text text-anchor=\"middle\" x=\"234\" y=\"-171.8\" font-family=\"Helvetica,sans-Serif\" font-size=\"14.00\" fill=\"#000000\">Cleanliness &lt;= 0.5</text>\n<text text-anchor=\"middle\" x=\"234\" y=\"-156.8\" font-family=\"Helvetica,sans-Serif\" font-size=\"14.00\" fill=\"#000000\">gini = 0.004</text>\n<text text-anchor=\"middle\" x=\"234\" y=\"-141.8\" font-family=\"Helvetica,sans-Serif\" font-size=\"14.00\" fill=\"#000000\">samples = 1.7%</text>\n<text text-anchor=\"middle\" x=\"234\" y=\"-126.8\" font-family=\"Helvetica,sans-Serif\" font-size=\"14.00\" fill=\"#000000\">value = [0.002, 0.998]</text>\n<text text-anchor=\"middle\" x=\"234\" y=\"-111.8\" font-family=\"Helvetica,sans-Serif\" font-size=\"14.00\" fill=\"#000000\">class = Defaulted</text>\n</g>\n<!-- 1&#45;&gt;2 -->\n<g id=\"edge2\" class=\"edge\">\n<title>1&#45;&gt;2</title>\n<path fill=\"none\" stroke=\"#000000\" d=\"M430.6459,-226.1926C395.6842,-211.8463 356.1147,-195.6091 321.6839,-181.4806\"/>\n<polygon fill=\"#000000\" stroke=\"#000000\" points=\"322.6972,-178.1133 312.117,-177.5549 320.0397,-184.5892 322.6972,-178.1133\"/>\n</g>\n<!-- 5 -->\n<g id=\"node6\" class=\"node\">\n<title>5</title>\n<path fill=\"#e99254\" stroke=\"#000000\" d=\"M605,-187C605,-187 443,-187 443,-187 437,-187 431,-181 431,-175 431,-175 431,-116 431,-116 431,-110 437,-104 443,-104 443,-104 605,-104 605,-104 611,-104 617,-110 617,-116 617,-116 617,-175 617,-175 617,-181 611,-187 605,-187\"/>\n<text text-anchor=\"middle\" x=\"524\" y=\"-171.8\" font-family=\"Helvetica,sans-Serif\" font-size=\"14.00\" fill=\"#000000\">Inflight_wifi_service &lt;= 3.5</text>\n<text text-anchor=\"middle\" x=\"524\" y=\"-156.8\" font-family=\"Helvetica,sans-Serif\" font-size=\"14.00\" fill=\"#000000\">gini = 0.21</text>\n<text text-anchor=\"middle\" x=\"524\" y=\"-141.8\" font-family=\"Helvetica,sans-Serif\" font-size=\"14.00\" fill=\"#000000\">samples = 48.6%</text>\n<text text-anchor=\"middle\" x=\"524\" y=\"-126.8\" font-family=\"Helvetica,sans-Serif\" font-size=\"14.00\" fill=\"#000000\">value = [0.881, 0.119]</text>\n<text text-anchor=\"middle\" x=\"524\" y=\"-111.8\" font-family=\"Helvetica,sans-Serif\" font-size=\"14.00\" fill=\"#000000\">class = Not defaulted</text>\n</g>\n<!-- 1&#45;&gt;5 -->\n<g id=\"edge5\" class=\"edge\">\n<title>1&#45;&gt;5</title>\n<path fill=\"none\" stroke=\"#000000\" d=\"M524,-222.8796C524,-214.6838 524,-205.9891 524,-197.5013\"/>\n<polygon fill=\"#000000\" stroke=\"#000000\" points=\"527.5001,-197.298 524,-187.2981 520.5001,-197.2981 527.5001,-197.298\"/>\n</g>\n<!-- 3 -->\n<g id=\"node4\" class=\"node\">\n<title>3</title>\n<path fill=\"#e58139\" stroke=\"#000000\" d=\"M140,-68C140,-68 12,-68 12,-68 6,-68 0,-62 0,-56 0,-56 0,-12 0,-12 0,-6 6,0 12,0 12,0 140,0 140,0 146,0 152,-6 152,-12 152,-12 152,-56 152,-56 152,-62 146,-68 140,-68\"/>\n<text text-anchor=\"middle\" x=\"76\" y=\"-52.8\" font-family=\"Helvetica,sans-Serif\" font-size=\"14.00\" fill=\"#000000\">gini = 0.0</text>\n<text text-anchor=\"middle\" x=\"76\" y=\"-37.8\" font-family=\"Helvetica,sans-Serif\" font-size=\"14.00\" fill=\"#000000\">samples = 0.0%</text>\n<text text-anchor=\"middle\" x=\"76\" y=\"-22.8\" font-family=\"Helvetica,sans-Serif\" font-size=\"14.00\" fill=\"#000000\">value = [1.0, 0.0]</text>\n<text text-anchor=\"middle\" x=\"76\" y=\"-7.8\" font-family=\"Helvetica,sans-Serif\" font-size=\"14.00\" fill=\"#000000\">class = Not defaulted</text>\n</g>\n<!-- 2&#45;&gt;3 -->\n<g id=\"edge3\" class=\"edge\">\n<title>2&#45;&gt;3</title>\n<path fill=\"none\" stroke=\"#000000\" d=\"M175.1666,-103.9815C161.289,-94.1881 146.5216,-83.7668 132.7386,-74.0402\"/>\n<polygon fill=\"#000000\" stroke=\"#000000\" points=\"134.4892,-70.9918 124.3007,-68.0856 130.4531,-76.7111 134.4892,-70.9918\"/>\n</g>\n<!-- 4 -->\n<g id=\"node5\" class=\"node\">\n<title>4</title>\n<path fill=\"#399de5\" stroke=\"#000000\" d=\"M286,-68C286,-68 182,-68 182,-68 176,-68 170,-62 170,-56 170,-56 170,-12 170,-12 170,-6 176,0 182,0 182,0 286,0 286,0 292,0 298,-6 298,-12 298,-12 298,-56 298,-56 298,-62 292,-68 286,-68\"/>\n<text text-anchor=\"middle\" x=\"234\" y=\"-52.8\" font-family=\"Helvetica,sans-Serif\" font-size=\"14.00\" fill=\"#000000\">gini = 0.0</text>\n<text text-anchor=\"middle\" x=\"234\" y=\"-37.8\" font-family=\"Helvetica,sans-Serif\" font-size=\"14.00\" fill=\"#000000\">samples = 1.7%</text>\n<text text-anchor=\"middle\" x=\"234\" y=\"-22.8\" font-family=\"Helvetica,sans-Serif\" font-size=\"14.00\" fill=\"#000000\">value = [0.0, 1.0]</text>\n<text text-anchor=\"middle\" x=\"234\" y=\"-7.8\" font-family=\"Helvetica,sans-Serif\" font-size=\"14.00\" fill=\"#000000\">class = Defaulted</text>\n</g>\n<!-- 2&#45;&gt;4 -->\n<g id=\"edge4\" class=\"edge\">\n<title>2&#45;&gt;4</title>\n<path fill=\"none\" stroke=\"#000000\" d=\"M234,-103.9815C234,-95.618 234,-86.7965 234,-78.3409\"/>\n<polygon fill=\"#000000\" stroke=\"#000000\" points=\"237.5001,-78.2636 234,-68.2637 230.5001,-78.2637 237.5001,-78.2636\"/>\n</g>\n<!-- 6 -->\n<g id=\"node7\" class=\"node\">\n<title>6</title>\n<path fill=\"#e78a47\" stroke=\"#000000\" d=\"M460,-68C460,-68 328,-68 328,-68 322,-68 316,-62 316,-56 316,-56 316,-12 316,-12 316,-6 322,0 328,0 328,0 460,0 460,0 466,0 472,-6 472,-12 472,-12 472,-56 472,-56 472,-62 466,-68 460,-68\"/>\n<text text-anchor=\"middle\" x=\"394\" y=\"-52.8\" font-family=\"Helvetica,sans-Serif\" font-size=\"14.00\" fill=\"#000000\">gini = 0.12</text>\n<text text-anchor=\"middle\" x=\"394\" y=\"-37.8\" font-family=\"Helvetica,sans-Serif\" font-size=\"14.00\" fill=\"#000000\">samples = 44.1%</text>\n<text text-anchor=\"middle\" x=\"394\" y=\"-22.8\" font-family=\"Helvetica,sans-Serif\" font-size=\"14.00\" fill=\"#000000\">value = [0.936, 0.064]</text>\n<text text-anchor=\"middle\" x=\"394\" y=\"-7.8\" font-family=\"Helvetica,sans-Serif\" font-size=\"14.00\" fill=\"#000000\">class = Not defaulted</text>\n</g>\n<!-- 5&#45;&gt;6 -->\n<g id=\"edge6\" class=\"edge\">\n<title>5&#45;&gt;6</title>\n<path fill=\"none\" stroke=\"#000000\" d=\"M475.5928,-103.9815C464.5558,-94.5151 452.8347,-84.462 441.8223,-75.0168\"/>\n<polygon fill=\"#000000\" stroke=\"#000000\" points=\"443.8178,-72.1173 433.9487,-68.2637 439.2606,-77.4307 443.8178,-72.1173\"/>\n</g>\n<!-- 7 -->\n<g id=\"node8\" class=\"node\">\n<title>7</title>\n<path fill=\"#a2d1f3\" stroke=\"#000000\" d=\"M634,-68C634,-68 502,-68 502,-68 496,-68 490,-62 490,-56 490,-56 490,-12 490,-12 490,-6 496,0 502,0 502,0 634,0 634,0 640,0 646,-6 646,-12 646,-12 646,-56 646,-56 646,-62 640,-68 634,-68\"/>\n<text text-anchor=\"middle\" x=\"568\" y=\"-52.8\" font-family=\"Helvetica,sans-Serif\" font-size=\"14.00\" fill=\"#000000\">gini = 0.453</text>\n<text text-anchor=\"middle\" x=\"568\" y=\"-37.8\" font-family=\"Helvetica,sans-Serif\" font-size=\"14.00\" fill=\"#000000\">samples = 4.5%</text>\n<text text-anchor=\"middle\" x=\"568\" y=\"-22.8\" font-family=\"Helvetica,sans-Serif\" font-size=\"14.00\" fill=\"#000000\">value = [0.347, 0.653]</text>\n<text text-anchor=\"middle\" x=\"568\" y=\"-7.8\" font-family=\"Helvetica,sans-Serif\" font-size=\"14.00\" fill=\"#000000\">class = Defaulted</text>\n</g>\n<!-- 5&#45;&gt;7 -->\n<g id=\"edge7\" class=\"edge\">\n<title>5&#45;&gt;7</title>\n<path fill=\"none\" stroke=\"#000000\" d=\"M540.384,-103.9815C543.7569,-95.4342 547.3186,-86.4086 550.722,-77.7839\"/>\n<polygon fill=\"#000000\" stroke=\"#000000\" points=\"554.0638,-78.8504 554.4789,-68.2637 547.5525,-76.2808 554.0638,-78.8504\"/>\n</g>\n<!-- 9 -->\n<g id=\"node10\" class=\"node\">\n<title>9</title>\n<path fill=\"#eda673\" stroke=\"#000000\" d=\"M866,-187C866,-187 704,-187 704,-187 698,-187 692,-181 692,-175 692,-175 692,-116 692,-116 692,-110 698,-104 704,-104 704,-104 866,-104 866,-104 872,-104 878,-110 878,-116 878,-116 878,-175 878,-175 878,-181 872,-187 866,-187\"/>\n<text text-anchor=\"middle\" x=\"785\" y=\"-171.8\" font-family=\"Helvetica,sans-Serif\" font-size=\"14.00\" fill=\"#000000\">Inflight_wifi_service &lt;= 4.5</text>\n<text text-anchor=\"middle\" x=\"785\" y=\"-156.8\" font-family=\"Helvetica,sans-Serif\" font-size=\"14.00\" fill=\"#000000\">gini = 0.35</text>\n<text text-anchor=\"middle\" x=\"785\" y=\"-141.8\" font-family=\"Helvetica,sans-Serif\" font-size=\"14.00\" fill=\"#000000\">samples = 10.1%</text>\n<text text-anchor=\"middle\" x=\"785\" y=\"-126.8\" font-family=\"Helvetica,sans-Serif\" font-size=\"14.00\" fill=\"#000000\">value = [0.774, 0.226]</text>\n<text text-anchor=\"middle\" x=\"785\" y=\"-111.8\" font-family=\"Helvetica,sans-Serif\" font-size=\"14.00\" fill=\"#000000\">class = Not defaulted</text>\n</g>\n<!-- 8&#45;&gt;9 -->\n<g id=\"edge9\" class=\"edge\">\n<title>8&#45;&gt;9</title>\n<path fill=\"none\" stroke=\"#000000\" d=\"M785,-222.8796C785,-214.6838 785,-205.9891 785,-197.5013\"/>\n<polygon fill=\"#000000\" stroke=\"#000000\" points=\"788.5001,-197.298 785,-187.2981 781.5001,-197.2981 788.5001,-197.298\"/>\n</g>\n<!-- 12 -->\n<g id=\"node13\" class=\"node\">\n<title>12</title>\n<path fill=\"#5caeea\" stroke=\"#000000\" d=\"M1150,-187C1150,-187 974,-187 974,-187 968,-187 962,-181 962,-175 962,-175 962,-116 962,-116 962,-110 968,-104 974,-104 974,-104 1150,-104 1150,-104 1156,-104 1162,-110 1162,-116 1162,-116 1162,-175 1162,-175 1162,-181 1156,-187 1150,-187\"/>\n<text text-anchor=\"middle\" x=\"1062\" y=\"-171.8\" font-family=\"Helvetica,sans-Serif\" font-size=\"14.00\" fill=\"#000000\">Inflight_entertainment &lt;= 3.5</text>\n<text text-anchor=\"middle\" x=\"1062\" y=\"-156.8\" font-family=\"Helvetica,sans-Serif\" font-size=\"14.00\" fill=\"#000000\">gini = 0.254</text>\n<text text-anchor=\"middle\" x=\"1062\" y=\"-141.8\" font-family=\"Helvetica,sans-Serif\" font-size=\"14.00\" fill=\"#000000\">samples = 39.6%</text>\n<text text-anchor=\"middle\" x=\"1062\" y=\"-126.8\" font-family=\"Helvetica,sans-Serif\" font-size=\"14.00\" fill=\"#000000\">value = [0.149, 0.851]</text>\n<text text-anchor=\"middle\" x=\"1062\" y=\"-111.8\" font-family=\"Helvetica,sans-Serif\" font-size=\"14.00\" fill=\"#000000\">class = Defaulted</text>\n</g>\n<!-- 8&#45;&gt;12 -->\n<g id=\"edge12\" class=\"edge\">\n<title>8&#45;&gt;12</title>\n<path fill=\"none\" stroke=\"#000000\" d=\"M865.8645,-229.7604C894.0844,-217.637 926.1897,-203.8445 956.1365,-190.9793\"/>\n<polygon fill=\"#000000\" stroke=\"#000000\" points=\"957.5478,-194.1823 965.3543,-187.0193 954.7848,-187.7507 957.5478,-194.1823\"/>\n</g>\n<!-- 10 -->\n<g id=\"node11\" class=\"node\">\n<title>10</title>\n<path fill=\"#e99457\" stroke=\"#000000\" d=\"M808,-68C808,-68 676,-68 676,-68 670,-68 664,-62 664,-56 664,-56 664,-12 664,-12 664,-6 670,0 676,0 676,0 808,0 808,0 814,0 820,-6 820,-12 820,-12 820,-56 820,-56 820,-62 814,-68 808,-68\"/>\n<text text-anchor=\"middle\" x=\"742\" y=\"-52.8\" font-family=\"Helvetica,sans-Serif\" font-size=\"14.00\" fill=\"#000000\">gini = 0.231</text>\n<text text-anchor=\"middle\" x=\"742\" y=\"-37.8\" font-family=\"Helvetica,sans-Serif\" font-size=\"14.00\" fill=\"#000000\">samples = 9.0%</text>\n<text text-anchor=\"middle\" x=\"742\" y=\"-22.8\" font-family=\"Helvetica,sans-Serif\" font-size=\"14.00\" fill=\"#000000\">value = [0.867, 0.133]</text>\n<text text-anchor=\"middle\" x=\"742\" y=\"-7.8\" font-family=\"Helvetica,sans-Serif\" font-size=\"14.00\" fill=\"#000000\">class = Not defaulted</text>\n</g>\n<!-- 9&#45;&gt;10 -->\n<g id=\"edge10\" class=\"edge\">\n<title>9&#45;&gt;10</title>\n<path fill=\"none\" stroke=\"#000000\" d=\"M768.9884,-103.9815C765.6921,-95.4342 762.2114,-86.4086 758.8853,-77.7839\"/>\n<polygon fill=\"#000000\" stroke=\"#000000\" points=\"762.0776,-76.3345 755.2138,-68.2637 755.5465,-78.8533 762.0776,-76.3345\"/>\n</g>\n<!-- 11 -->\n<g id=\"node12\" class=\"node\">\n<title>11</title>\n<path fill=\"#399de5\" stroke=\"#000000\" d=\"M954,-68C954,-68 850,-68 850,-68 844,-68 838,-62 838,-56 838,-56 838,-12 838,-12 838,-6 844,0 850,0 850,0 954,0 954,0 960,0 966,-6 966,-12 966,-12 966,-56 966,-56 966,-62 960,-68 954,-68\"/>\n<text text-anchor=\"middle\" x=\"902\" y=\"-52.8\" font-family=\"Helvetica,sans-Serif\" font-size=\"14.00\" fill=\"#000000\">gini = 0.0</text>\n<text text-anchor=\"middle\" x=\"902\" y=\"-37.8\" font-family=\"Helvetica,sans-Serif\" font-size=\"14.00\" fill=\"#000000\">samples = 1.1%</text>\n<text text-anchor=\"middle\" x=\"902\" y=\"-22.8\" font-family=\"Helvetica,sans-Serif\" font-size=\"14.00\" fill=\"#000000\">value = [0.0, 1.0]</text>\n<text text-anchor=\"middle\" x=\"902\" y=\"-7.8\" font-family=\"Helvetica,sans-Serif\" font-size=\"14.00\" fill=\"#000000\">class = Defaulted</text>\n</g>\n<!-- 9&#45;&gt;11 -->\n<g id=\"edge11\" class=\"edge\">\n<title>9&#45;&gt;11</title>\n<path fill=\"none\" stroke=\"#000000\" d=\"M828.5665,-103.9815C838.4034,-94.607 848.844,-84.6572 858.6711,-75.2921\"/>\n<polygon fill=\"#000000\" stroke=\"#000000\" points=\"861.2216,-77.6963 866.0462,-68.2637 856.3924,-72.6289 861.2216,-77.6963\"/>\n</g>\n<!-- 13 -->\n<g id=\"node14\" class=\"node\">\n<title>13</title>\n<path fill=\"#b4daf5\" stroke=\"#000000\" d=\"M1128,-68C1128,-68 996,-68 996,-68 990,-68 984,-62 984,-56 984,-56 984,-12 984,-12 984,-6 990,0 996,0 996,0 1128,0 1128,0 1134,0 1140,-6 1140,-12 1140,-12 1140,-56 1140,-56 1140,-62 1134,-68 1128,-68\"/>\n<text text-anchor=\"middle\" x=\"1062\" y=\"-52.8\" font-family=\"Helvetica,sans-Serif\" font-size=\"14.00\" fill=\"#000000\">gini = 0.472</text>\n<text text-anchor=\"middle\" x=\"1062\" y=\"-37.8\" font-family=\"Helvetica,sans-Serif\" font-size=\"14.00\" fill=\"#000000\">samples = 9.7%</text>\n<text text-anchor=\"middle\" x=\"1062\" y=\"-22.8\" font-family=\"Helvetica,sans-Serif\" font-size=\"14.00\" fill=\"#000000\">value = [0.383, 0.617]</text>\n<text text-anchor=\"middle\" x=\"1062\" y=\"-7.8\" font-family=\"Helvetica,sans-Serif\" font-size=\"14.00\" fill=\"#000000\">class = Defaulted</text>\n</g>\n<!-- 12&#45;&gt;13 -->\n<g id=\"edge13\" class=\"edge\">\n<title>12&#45;&gt;13</title>\n<path fill=\"none\" stroke=\"#000000\" d=\"M1062,-103.9815C1062,-95.618 1062,-86.7965 1062,-78.3409\"/>\n<polygon fill=\"#000000\" stroke=\"#000000\" points=\"1065.5001,-78.2636 1062,-68.2637 1058.5001,-78.2637 1065.5001,-78.2636\"/>\n</g>\n<!-- 14 -->\n<g id=\"node15\" class=\"node\">\n<title>14</title>\n<path fill=\"#49a5e7\" stroke=\"#000000\" d=\"M1302,-68C1302,-68 1170,-68 1170,-68 1164,-68 1158,-62 1158,-56 1158,-56 1158,-12 1158,-12 1158,-6 1164,0 1170,0 1170,0 1302,0 1302,0 1308,0 1314,-6 1314,-12 1314,-12 1314,-56 1314,-56 1314,-62 1308,-68 1302,-68\"/>\n<text text-anchor=\"middle\" x=\"1236\" y=\"-52.8\" font-family=\"Helvetica,sans-Serif\" font-size=\"14.00\" fill=\"#000000\">gini = 0.136</text>\n<text text-anchor=\"middle\" x=\"1236\" y=\"-37.8\" font-family=\"Helvetica,sans-Serif\" font-size=\"14.00\" fill=\"#000000\">samples = 29.9%</text>\n<text text-anchor=\"middle\" x=\"1236\" y=\"-22.8\" font-family=\"Helvetica,sans-Serif\" font-size=\"14.00\" fill=\"#000000\">value = [0.074, 0.926]</text>\n<text text-anchor=\"middle\" x=\"1236\" y=\"-7.8\" font-family=\"Helvetica,sans-Serif\" font-size=\"14.00\" fill=\"#000000\">class = Defaulted</text>\n</g>\n<!-- 12&#45;&gt;14 -->\n<g id=\"edge14\" class=\"edge\">\n<title>12&#45;&gt;14</title>\n<path fill=\"none\" stroke=\"#000000\" d=\"M1126.7912,-103.9815C1142.3625,-94.0034 1158.951,-83.3733 1174.3737,-73.4904\"/>\n<polygon fill=\"#000000\" stroke=\"#000000\" points=\"1176.2768,-76.4279 1182.8081,-68.0856 1172.5,-70.5341 1176.2768,-76.4279\"/>\n</g>\n</g>\n</svg>\n"
          },
          "metadata": {},
          "execution_count": 58
        }
      ]
    },
    {
      "cell_type": "code",
      "metadata": {
        "colab": {
          "base_uri": "https://localhost:8080/"
        },
        "id": "HvVu-onvv9gw",
        "outputId": "a66f802d-9405-4b57-e079-321d38b73c24"
      },
      "source": [
        "features_response[:-1].index('Type_of_Travel')"
      ],
      "execution_count": null,
      "outputs": [
        {
          "output_type": "execute_result",
          "data": {
            "text/plain": [
              "4"
            ]
          },
          "metadata": {},
          "execution_count": 59
        }
      ]
    },
    {
      "cell_type": "code",
      "metadata": {
        "colab": {
          "base_uri": "https://localhost:8080/"
        },
        "id": "BGSLc2xKyDky",
        "outputId": "f095f083-fa21-4f20-a3e1-b9b1e0f52dca"
      },
      "source": [
        "X_train.shape\n"
      ],
      "execution_count": null,
      "outputs": [
        {
          "output_type": "execute_result",
          "data": {
            "text/plain": [
              "(83123, 23)"
            ]
          },
          "metadata": {},
          "execution_count": 60
        }
      ]
    },
    {
      "cell_type": "code",
      "metadata": {
        "colab": {
          "base_uri": "https://localhost:8080/"
        },
        "id": "zAej5gUIyTvS",
        "outputId": "ad28062e-0a0e-4cea-94ee-e17a19d8ad4b"
      },
      "source": [
        "sum(X_train[:,4] <= 1.5)/X_train.shape[0]\n"
      ],
      "execution_count": null,
      "outputs": [
        {
          "output_type": "execute_result",
          "data": {
            "text/plain": [
              "1.0"
            ]
          },
          "metadata": {},
          "execution_count": 61
        }
      ]
    },
    {
      "cell_type": "code",
      "metadata": {
        "colab": {
          "base_uri": "https://localhost:8080/"
        },
        "id": "wmUS_iZ6yWSe",
        "outputId": "665f567b-db94-4ad6-e170-75f109807db6"
      },
      "source": [
        "np.mean(y_train)\n"
      ],
      "execution_count": null,
      "outputs": [
        {
          "output_type": "execute_result",
          "data": {
            "text/plain": [
              "0.43468113518520746"
            ]
          },
          "metadata": {},
          "execution_count": 62
        }
      ]
    },
    {
      "cell_type": "code",
      "metadata": {
        "id": "LsbFZa05yydx"
      },
      "source": [
        "dt.max_depth = None\n"
      ],
      "execution_count": null,
      "outputs": []
    },
    {
      "cell_type": "code",
      "metadata": {
        "colab": {
          "base_uri": "https://localhost:8080/"
        },
        "id": "nRg-ehuWy18k",
        "outputId": "7b89a116-57aa-4fdd-db1e-5956b2229002"
      },
      "source": [
        "dt.fit(X_train, y_train)\n"
      ],
      "execution_count": null,
      "outputs": [
        {
          "output_type": "execute_result",
          "data": {
            "text/plain": [
              "DecisionTreeClassifier(ccp_alpha=0.0, class_weight=None, criterion='gini',\n",
              "                       max_depth=None, max_features=None, max_leaf_nodes=None,\n",
              "                       min_impurity_decrease=0.0, min_impurity_split=None,\n",
              "                       min_samples_leaf=1, min_samples_split=2,\n",
              "                       min_weight_fraction_leaf=0.0, presort='deprecated',\n",
              "                       random_state=None, splitter='best')"
            ]
          },
          "metadata": {},
          "execution_count": 64
        }
      ]
    },
    {
      "cell_type": "markdown",
      "metadata": {
        "id": "pDx73tXb1G3U"
      },
      "source": [
        "# Hiperparâmetros para árvore de decisões"
      ]
    },
    {
      "cell_type": "code",
      "metadata": {
        "id": "ToiOXSZH08Zz"
      },
      "source": [
        "from sklearn.model_selection import GridSearchCV"
      ],
      "execution_count": null,
      "outputs": []
    },
    {
      "cell_type": "code",
      "metadata": {
        "colab": {
          "base_uri": "https://localhost:8080/"
        },
        "id": "-IWXIqnb1NzU",
        "outputId": "265cbee2-d766-4880-e164-8f94a0ef3c20"
      },
      "source": [
        "\n",
        "X_train.shape"
      ],
      "execution_count": null,
      "outputs": [
        {
          "output_type": "execute_result",
          "data": {
            "text/plain": [
              "(83123, 23)"
            ]
          },
          "metadata": {},
          "execution_count": 66
        }
      ]
    },
    {
      "cell_type": "code",
      "metadata": {
        "id": "rAnsGnv_1PtK"
      },
      "source": [
        "params = {'max_depth':[1, 4, 6, 8, 10, 12]}\n",
        "# params = {'max_depth':list(range(1,13))}\n"
      ],
      "execution_count": null,
      "outputs": []
    },
    {
      "cell_type": "markdown",
      "metadata": {
        "id": "5MMbRZfE5SKz"
      },
      "source": [
        "# Fitting a Random Forest"
      ]
    },
    {
      "cell_type": "code",
      "metadata": {
        "id": "l7Do76aG4r2X"
      },
      "source": [
        "from sklearn.ensemble import RandomForestClassifier\n"
      ],
      "execution_count": null,
      "outputs": []
    },
    {
      "cell_type": "code",
      "metadata": {
        "id": "1aLMYism5bYN"
      },
      "source": [
        "rf = RandomForestClassifier\\\n",
        "(n_estimators=10, criterion='gini', max_depth=3,\n",
        "min_samples_split=2, min_samples_leaf=1, min_weight_fraction_leaf=0.0,\n",
        "max_features='auto', max_leaf_nodes=None, min_impurity_decrease=0.0,\n",
        "min_impurity_split=None, bootstrap=True, oob_score=False, n_jobs=None,\n",
        "random_state=4, verbose=0, warm_start=False, class_weight=None)"
      ],
      "execution_count": null,
      "outputs": []
    },
    {
      "cell_type": "code",
      "metadata": {
        "id": "MbFLi-lY5gy7"
      },
      "source": [
        "rf_params_ex = {'n_estimators':list(range(10,110,10))}\n"
      ],
      "execution_count": null,
      "outputs": []
    },
    {
      "cell_type": "code",
      "metadata": {
        "id": "8nJlx3Ac5iyg"
      },
      "source": [
        "cv_rf_ex = GridSearchCV(rf, param_grid=rf_params_ex, scoring='roc_auc',\n",
        "                        n_jobs=None, refit=True, cv=4, verbose=1,\n",
        "                        pre_dispatch=None, error_score=np.nan, return_train_score=True)"
      ],
      "execution_count": null,
      "outputs": []
    },
    {
      "cell_type": "code",
      "metadata": {
        "colab": {
          "base_uri": "https://localhost:8080/"
        },
        "id": "ocNEv6ji5lSw",
        "outputId": "e9f05196-fe71-4886-ce06-f51b3f28009e"
      },
      "source": [
        "cv_rf_ex.fit(X_train, y_train)"
      ],
      "execution_count": null,
      "outputs": [
        {
          "output_type": "stream",
          "name": "stdout",
          "text": [
            "Fitting 4 folds for each of 10 candidates, totalling 40 fits\n"
          ]
        },
        {
          "output_type": "stream",
          "name": "stderr",
          "text": [
            "[Parallel(n_jobs=1)]: Using backend SequentialBackend with 1 concurrent workers.\n",
            "[Parallel(n_jobs=1)]: Done  40 out of  40 | elapsed:  1.2min finished\n"
          ]
        },
        {
          "output_type": "execute_result",
          "data": {
            "text/plain": [
              "GridSearchCV(cv=4, error_score=nan,\n",
              "             estimator=RandomForestClassifier(bootstrap=True, ccp_alpha=0.0,\n",
              "                                              class_weight=None,\n",
              "                                              criterion='gini', max_depth=3,\n",
              "                                              max_features='auto',\n",
              "                                              max_leaf_nodes=None,\n",
              "                                              max_samples=None,\n",
              "                                              min_impurity_decrease=0.0,\n",
              "                                              min_impurity_split=None,\n",
              "                                              min_samples_leaf=1,\n",
              "                                              min_samples_split=2,\n",
              "                                              min_weight_fraction_leaf=0.0,\n",
              "                                              n_estimators=10, n_jobs=None,\n",
              "                                              oob_score=False, random_state=4,\n",
              "                                              verbose=0, warm_start=False),\n",
              "             iid='deprecated', n_jobs=None,\n",
              "             param_grid={'n_estimators': [10, 20, 30, 40, 50, 60, 70, 80, 90,\n",
              "                                          100]},\n",
              "             pre_dispatch=None, refit=True, return_train_score=True,\n",
              "             scoring='roc_auc', verbose=1)"
            ]
          },
          "metadata": {},
          "execution_count": 72
        }
      ]
    },
    {
      "cell_type": "code",
      "metadata": {
        "id": "W6bjkt-85nkK"
      },
      "source": [
        "cv_rf_ex_results_df = pd.DataFrame(cv_rf_ex.cv_results_)"
      ],
      "execution_count": null,
      "outputs": []
    },
    {
      "cell_type": "code",
      "metadata": {
        "colab": {
          "base_uri": "https://localhost:8080/",
          "height": 557
        },
        "id": "gzsGfI5D6BiP",
        "outputId": "b51dae49-930e-4197-d742-3c34290a141f"
      },
      "source": [
        "cv_rf_ex_results_df\n"
      ],
      "execution_count": null,
      "outputs": [
        {
          "output_type": "execute_result",
          "data": {
            "text/html": [
              "<div>\n",
              "<style scoped>\n",
              "    .dataframe tbody tr th:only-of-type {\n",
              "        vertical-align: middle;\n",
              "    }\n",
              "\n",
              "    .dataframe tbody tr th {\n",
              "        vertical-align: top;\n",
              "    }\n",
              "\n",
              "    .dataframe thead th {\n",
              "        text-align: right;\n",
              "    }\n",
              "</style>\n",
              "<table border=\"1\" class=\"dataframe\">\n",
              "  <thead>\n",
              "    <tr style=\"text-align: right;\">\n",
              "      <th></th>\n",
              "      <th>mean_fit_time</th>\n",
              "      <th>std_fit_time</th>\n",
              "      <th>mean_score_time</th>\n",
              "      <th>std_score_time</th>\n",
              "      <th>param_n_estimators</th>\n",
              "      <th>params</th>\n",
              "      <th>split0_test_score</th>\n",
              "      <th>split1_test_score</th>\n",
              "      <th>split2_test_score</th>\n",
              "      <th>split3_test_score</th>\n",
              "      <th>mean_test_score</th>\n",
              "      <th>std_test_score</th>\n",
              "      <th>rank_test_score</th>\n",
              "      <th>split0_train_score</th>\n",
              "      <th>split1_train_score</th>\n",
              "      <th>split2_train_score</th>\n",
              "      <th>split3_train_score</th>\n",
              "      <th>mean_train_score</th>\n",
              "      <th>std_train_score</th>\n",
              "    </tr>\n",
              "  </thead>\n",
              "  <tbody>\n",
              "    <tr>\n",
              "      <th>0</th>\n",
              "      <td>0.284709</td>\n",
              "      <td>0.012598</td>\n",
              "      <td>0.026525</td>\n",
              "      <td>0.001665</td>\n",
              "      <td>10</td>\n",
              "      <td>{'n_estimators': 10}</td>\n",
              "      <td>0.942405</td>\n",
              "      <td>0.943181</td>\n",
              "      <td>0.939804</td>\n",
              "      <td>0.942700</td>\n",
              "      <td>0.942022</td>\n",
              "      <td>0.001311</td>\n",
              "      <td>10</td>\n",
              "      <td>0.941582</td>\n",
              "      <td>0.942126</td>\n",
              "      <td>0.942819</td>\n",
              "      <td>0.941783</td>\n",
              "      <td>0.942077</td>\n",
              "      <td>0.000470</td>\n",
              "    </tr>\n",
              "    <tr>\n",
              "      <th>1</th>\n",
              "      <td>0.547339</td>\n",
              "      <td>0.003799</td>\n",
              "      <td>0.041098</td>\n",
              "      <td>0.002471</td>\n",
              "      <td>20</td>\n",
              "      <td>{'n_estimators': 20}</td>\n",
              "      <td>0.952620</td>\n",
              "      <td>0.951538</td>\n",
              "      <td>0.949671</td>\n",
              "      <td>0.952030</td>\n",
              "      <td>0.951465</td>\n",
              "      <td>0.001104</td>\n",
              "      <td>9</td>\n",
              "      <td>0.951958</td>\n",
              "      <td>0.951600</td>\n",
              "      <td>0.952132</td>\n",
              "      <td>0.950741</td>\n",
              "      <td>0.951608</td>\n",
              "      <td>0.000536</td>\n",
              "    </tr>\n",
              "    <tr>\n",
              "      <th>2</th>\n",
              "      <td>0.838071</td>\n",
              "      <td>0.019767</td>\n",
              "      <td>0.052519</td>\n",
              "      <td>0.001653</td>\n",
              "      <td>30</td>\n",
              "      <td>{'n_estimators': 30}</td>\n",
              "      <td>0.958622</td>\n",
              "      <td>0.957496</td>\n",
              "      <td>0.956530</td>\n",
              "      <td>0.958863</td>\n",
              "      <td>0.957878</td>\n",
              "      <td>0.000933</td>\n",
              "      <td>1</td>\n",
              "      <td>0.958248</td>\n",
              "      <td>0.957764</td>\n",
              "      <td>0.958640</td>\n",
              "      <td>0.957415</td>\n",
              "      <td>0.958017</td>\n",
              "      <td>0.000466</td>\n",
              "    </tr>\n",
              "    <tr>\n",
              "      <th>3</th>\n",
              "      <td>1.089035</td>\n",
              "      <td>0.005183</td>\n",
              "      <td>0.068832</td>\n",
              "      <td>0.004636</td>\n",
              "      <td>40</td>\n",
              "      <td>{'n_estimators': 40}</td>\n",
              "      <td>0.958412</td>\n",
              "      <td>0.957010</td>\n",
              "      <td>0.955850</td>\n",
              "      <td>0.957899</td>\n",
              "      <td>0.957293</td>\n",
              "      <td>0.000972</td>\n",
              "      <td>2</td>\n",
              "      <td>0.957746</td>\n",
              "      <td>0.957385</td>\n",
              "      <td>0.958143</td>\n",
              "      <td>0.956417</td>\n",
              "      <td>0.957422</td>\n",
              "      <td>0.000640</td>\n",
              "    </tr>\n",
              "    <tr>\n",
              "      <th>4</th>\n",
              "      <td>1.392598</td>\n",
              "      <td>0.028006</td>\n",
              "      <td>0.081657</td>\n",
              "      <td>0.001763</td>\n",
              "      <td>50</td>\n",
              "      <td>{'n_estimators': 50}</td>\n",
              "      <td>0.957082</td>\n",
              "      <td>0.955967</td>\n",
              "      <td>0.955063</td>\n",
              "      <td>0.956852</td>\n",
              "      <td>0.956241</td>\n",
              "      <td>0.000798</td>\n",
              "      <td>3</td>\n",
              "      <td>0.956356</td>\n",
              "      <td>0.956429</td>\n",
              "      <td>0.957293</td>\n",
              "      <td>0.955504</td>\n",
              "      <td>0.956395</td>\n",
              "      <td>0.000633</td>\n",
              "    </tr>\n",
              "    <tr>\n",
              "      <th>5</th>\n",
              "      <td>1.643497</td>\n",
              "      <td>0.003747</td>\n",
              "      <td>0.094909</td>\n",
              "      <td>0.001341</td>\n",
              "      <td>60</td>\n",
              "      <td>{'n_estimators': 60}</td>\n",
              "      <td>0.955723</td>\n",
              "      <td>0.954741</td>\n",
              "      <td>0.953778</td>\n",
              "      <td>0.955707</td>\n",
              "      <td>0.954987</td>\n",
              "      <td>0.000803</td>\n",
              "      <td>6</td>\n",
              "      <td>0.955084</td>\n",
              "      <td>0.955134</td>\n",
              "      <td>0.956214</td>\n",
              "      <td>0.954198</td>\n",
              "      <td>0.955158</td>\n",
              "      <td>0.000714</td>\n",
              "    </tr>\n",
              "    <tr>\n",
              "      <th>6</th>\n",
              "      <td>1.931464</td>\n",
              "      <td>0.007917</td>\n",
              "      <td>0.108976</td>\n",
              "      <td>0.001177</td>\n",
              "      <td>70</td>\n",
              "      <td>{'n_estimators': 70}</td>\n",
              "      <td>0.955480</td>\n",
              "      <td>0.954515</td>\n",
              "      <td>0.953666</td>\n",
              "      <td>0.955284</td>\n",
              "      <td>0.954736</td>\n",
              "      <td>0.000715</td>\n",
              "      <td>8</td>\n",
              "      <td>0.954848</td>\n",
              "      <td>0.954998</td>\n",
              "      <td>0.955969</td>\n",
              "      <td>0.953906</td>\n",
              "      <td>0.954930</td>\n",
              "      <td>0.000731</td>\n",
              "    </tr>\n",
              "    <tr>\n",
              "      <th>7</th>\n",
              "      <td>2.169665</td>\n",
              "      <td>0.011105</td>\n",
              "      <td>0.124895</td>\n",
              "      <td>0.003434</td>\n",
              "      <td>80</td>\n",
              "      <td>{'n_estimators': 80}</td>\n",
              "      <td>0.955666</td>\n",
              "      <td>0.954894</td>\n",
              "      <td>0.953700</td>\n",
              "      <td>0.955513</td>\n",
              "      <td>0.954943</td>\n",
              "      <td>0.000773</td>\n",
              "      <td>7</td>\n",
              "      <td>0.955023</td>\n",
              "      <td>0.955344</td>\n",
              "      <td>0.956036</td>\n",
              "      <td>0.954173</td>\n",
              "      <td>0.955144</td>\n",
              "      <td>0.000670</td>\n",
              "    </tr>\n",
              "    <tr>\n",
              "      <th>8</th>\n",
              "      <td>2.451213</td>\n",
              "      <td>0.022112</td>\n",
              "      <td>0.138237</td>\n",
              "      <td>0.002527</td>\n",
              "      <td>90</td>\n",
              "      <td>{'n_estimators': 90}</td>\n",
              "      <td>0.956084</td>\n",
              "      <td>0.955386</td>\n",
              "      <td>0.954196</td>\n",
              "      <td>0.956068</td>\n",
              "      <td>0.955433</td>\n",
              "      <td>0.000768</td>\n",
              "      <td>5</td>\n",
              "      <td>0.955512</td>\n",
              "      <td>0.955759</td>\n",
              "      <td>0.956456</td>\n",
              "      <td>0.954711</td>\n",
              "      <td>0.955610</td>\n",
              "      <td>0.000624</td>\n",
              "    </tr>\n",
              "    <tr>\n",
              "      <th>9</th>\n",
              "      <td>2.716977</td>\n",
              "      <td>0.007786</td>\n",
              "      <td>0.151545</td>\n",
              "      <td>0.002726</td>\n",
              "      <td>100</td>\n",
              "      <td>{'n_estimators': 100}</td>\n",
              "      <td>0.956380</td>\n",
              "      <td>0.955544</td>\n",
              "      <td>0.954526</td>\n",
              "      <td>0.956569</td>\n",
              "      <td>0.955755</td>\n",
              "      <td>0.000807</td>\n",
              "      <td>4</td>\n",
              "      <td>0.955839</td>\n",
              "      <td>0.955990</td>\n",
              "      <td>0.956704</td>\n",
              "      <td>0.955216</td>\n",
              "      <td>0.955938</td>\n",
              "      <td>0.000529</td>\n",
              "    </tr>\n",
              "  </tbody>\n",
              "</table>\n",
              "</div>"
            ],
            "text/plain": [
              "   mean_fit_time  std_fit_time  ...  mean_train_score  std_train_score\n",
              "0       0.284709      0.012598  ...          0.942077         0.000470\n",
              "1       0.547339      0.003799  ...          0.951608         0.000536\n",
              "2       0.838071      0.019767  ...          0.958017         0.000466\n",
              "3       1.089035      0.005183  ...          0.957422         0.000640\n",
              "4       1.392598      0.028006  ...          0.956395         0.000633\n",
              "5       1.643497      0.003747  ...          0.955158         0.000714\n",
              "6       1.931464      0.007917  ...          0.954930         0.000731\n",
              "7       2.169665      0.011105  ...          0.955144         0.000670\n",
              "8       2.451213      0.022112  ...          0.955610         0.000624\n",
              "9       2.716977      0.007786  ...          0.955938         0.000529\n",
              "\n",
              "[10 rows x 19 columns]"
            ]
          },
          "metadata": {},
          "execution_count": 74
        }
      ]
    },
    {
      "cell_type": "code",
      "metadata": {
        "colab": {
          "base_uri": "https://localhost:8080/"
        },
        "id": "OVX0XAbW6C_H",
        "outputId": "a73583a6-46ab-4a71-efc1-ecb1bbfcb1ec"
      },
      "source": [
        "cv_rf_ex_results_df.max()\n"
      ],
      "execution_count": null,
      "outputs": [
        {
          "output_type": "execute_result",
          "data": {
            "text/plain": [
              "mean_fit_time           2.716977\n",
              "std_fit_time            0.028006\n",
              "mean_score_time         0.151545\n",
              "std_score_time          0.004636\n",
              "param_n_estimators    100.000000\n",
              "split0_test_score       0.958622\n",
              "split1_test_score       0.957496\n",
              "split2_test_score       0.956530\n",
              "split3_test_score       0.958863\n",
              "mean_test_score         0.957878\n",
              "std_test_score          0.001311\n",
              "rank_test_score        10.000000\n",
              "split0_train_score      0.958248\n",
              "split1_train_score      0.957764\n",
              "split2_train_score      0.958640\n",
              "split3_train_score      0.957415\n",
              "mean_train_score        0.958017\n",
              "std_train_score         0.000731\n",
              "dtype: float64"
            ]
          },
          "metadata": {},
          "execution_count": 75
        }
      ]
    },
    {
      "cell_type": "code",
      "metadata": {
        "colab": {
          "base_uri": "https://localhost:8080/",
          "height": 597
        },
        "id": "DTI3oqyk6HnA",
        "outputId": "a3f191a3-a786-4959-ed66-70ad9db9176d"
      },
      "source": [
        "fig, axs = plt.subplots(nrows=1, ncols=2, figsize=(6, 3))\n",
        "axs[0].plot(cv_rf_ex_results_df['param_n_estimators'],\n",
        "            cv_rf_ex_results_df['mean_fit_time'],\n",
        "            '-o')\n",
        "axs[0].set_xlabel('Number of trees')\n",
        "axs[0].set_ylabel('Mean fit time (seconds)')\n",
        "axs[1].errorbar(cv_rf_ex_results_df['param_n_estimators'],\n",
        "                cv_rf_ex_results_df['mean_test_score'],\n",
        "                yerr=cv_rf_ex_results_df['std_test_score'])\n",
        "axs[1].set_xlabel('Number of trees')\n",
        "axs[1].set_ylabel('Mean testing ROC AUC $\\pm$ 1 SD ')\n",
        "plt.tight_layout()"
      ],
      "execution_count": null,
      "outputs": [
        {
          "output_type": "display_data",
          "data": {
            "image/png": "[encoded data removed]",
            "text/plain": [
              "<Figure size 1200x600 with 2 Axes>"
            ]
          },
          "metadata": {
            "needs_background": "light"
          }
        }
      ]
    },
    {
      "cell_type": "code",
      "metadata": {
        "colab": {
          "base_uri": "https://localhost:8080/"
        },
        "id": "PASDAJLX6MtT",
        "outputId": "f133e1b1-bd6c-47a1-922b-d52d402e3c6f"
      },
      "source": [
        "cv_rf_ex.best_params_\n"
      ],
      "execution_count": null,
      "outputs": [
        {
          "output_type": "execute_result",
          "data": {
            "text/plain": [
              "{'n_estimators': 30}"
            ]
          },
          "metadata": {},
          "execution_count": 77
        }
      ]
    },
    {
      "cell_type": "code",
      "metadata": {
        "id": "ZdbHM2-e6YT3"
      },
      "source": [
        "feat_imp_df = pd.DataFrame({\n",
        "    'Feature name':features_response[:-1],\n",
        "    'Importance':cv_rf_ex.best_estimator_.feature_importances_\n",
        "})"
      ],
      "execution_count": null,
      "outputs": []
    },
    {
      "cell_type": "code",
      "metadata": {
        "colab": {
          "base_uri": "https://localhost:8080/",
          "height": 770
        },
        "id": "YyOM641l6a_k",
        "outputId": "3310df2d-1c64-42aa-b43e-6374ed74d1a6"
      },
      "source": [
        "feat_imp_df.sort_values('Importance', ascending=False)\n"
      ],
      "execution_count": null,
      "outputs": [
        {
          "output_type": "execute_result",
          "data": {
            "text/html": [
              "<div>\n",
              "<style scoped>\n",
              "    .dataframe tbody tr th:only-of-type {\n",
              "        vertical-align: middle;\n",
              "    }\n",
              "\n",
              "    .dataframe tbody tr th {\n",
              "        vertical-align: top;\n",
              "    }\n",
              "\n",
              "    .dataframe thead th {\n",
              "        text-align: right;\n",
              "    }\n",
              "</style>\n",
              "<table border=\"1\" class=\"dataframe\">\n",
              "  <thead>\n",
              "    <tr style=\"text-align: right;\">\n",
              "      <th></th>\n",
              "      <th>Feature name</th>\n",
              "      <th>Importance</th>\n",
              "    </tr>\n",
              "  </thead>\n",
              "  <tbody>\n",
              "    <tr>\n",
              "      <th>12</th>\n",
              "      <td>Online_boarding</td>\n",
              "      <td>0.327166</td>\n",
              "    </tr>\n",
              "    <tr>\n",
              "      <th>5</th>\n",
              "      <td>Class</td>\n",
              "      <td>0.134391</td>\n",
              "    </tr>\n",
              "    <tr>\n",
              "      <th>7</th>\n",
              "      <td>Inflight_wifi_service</td>\n",
              "      <td>0.109422</td>\n",
              "    </tr>\n",
              "    <tr>\n",
              "      <th>4</th>\n",
              "      <td>Type_of_Travel</td>\n",
              "      <td>0.107317</td>\n",
              "    </tr>\n",
              "    <tr>\n",
              "      <th>14</th>\n",
              "      <td>Inflight_entertainment</td>\n",
              "      <td>0.085591</td>\n",
              "    </tr>\n",
              "    <tr>\n",
              "      <th>13</th>\n",
              "      <td>Seat_comfort</td>\n",
              "      <td>0.049746</td>\n",
              "    </tr>\n",
              "    <tr>\n",
              "      <th>15</th>\n",
              "      <td>On-board_service</td>\n",
              "      <td>0.046750</td>\n",
              "    </tr>\n",
              "    <tr>\n",
              "      <th>16</th>\n",
              "      <td>Leg_room_service</td>\n",
              "      <td>0.039603</td>\n",
              "    </tr>\n",
              "    <tr>\n",
              "      <th>6</th>\n",
              "      <td>Flight_Distance</td>\n",
              "      <td>0.022453</td>\n",
              "    </tr>\n",
              "    <tr>\n",
              "      <th>9</th>\n",
              "      <td>Ease_of_Online_booking</td>\n",
              "      <td>0.016754</td>\n",
              "    </tr>\n",
              "    <tr>\n",
              "      <th>17</th>\n",
              "      <td>Baggage_handling</td>\n",
              "      <td>0.012401</td>\n",
              "    </tr>\n",
              "    <tr>\n",
              "      <th>2</th>\n",
              "      <td>Customer_Type</td>\n",
              "      <td>0.011021</td>\n",
              "    </tr>\n",
              "    <tr>\n",
              "      <th>19</th>\n",
              "      <td>Inflight_service</td>\n",
              "      <td>0.008958</td>\n",
              "    </tr>\n",
              "    <tr>\n",
              "      <th>18</th>\n",
              "      <td>Checkin_service</td>\n",
              "      <td>0.008563</td>\n",
              "    </tr>\n",
              "    <tr>\n",
              "      <th>20</th>\n",
              "      <td>Cleanliness</td>\n",
              "      <td>0.006990</td>\n",
              "    </tr>\n",
              "    <tr>\n",
              "      <th>8</th>\n",
              "      <td>Departure/Arrival_time_convenient</td>\n",
              "      <td>0.005753</td>\n",
              "    </tr>\n",
              "    <tr>\n",
              "      <th>11</th>\n",
              "      <td>Food_and_drink</td>\n",
              "      <td>0.002138</td>\n",
              "    </tr>\n",
              "    <tr>\n",
              "      <th>0</th>\n",
              "      <td>id</td>\n",
              "      <td>0.001918</td>\n",
              "    </tr>\n",
              "    <tr>\n",
              "      <th>10</th>\n",
              "      <td>Gate_location</td>\n",
              "      <td>0.001104</td>\n",
              "    </tr>\n",
              "    <tr>\n",
              "      <th>3</th>\n",
              "      <td>Age</td>\n",
              "      <td>0.000999</td>\n",
              "    </tr>\n",
              "    <tr>\n",
              "      <th>1</th>\n",
              "      <td>Gender</td>\n",
              "      <td>0.000512</td>\n",
              "    </tr>\n",
              "    <tr>\n",
              "      <th>22</th>\n",
              "      <td>Arrival_Delay_in_Minutes</td>\n",
              "      <td>0.000450</td>\n",
              "    </tr>\n",
              "    <tr>\n",
              "      <th>21</th>\n",
              "      <td>Departure_Delay_in_Minutes</td>\n",
              "      <td>0.000000</td>\n",
              "    </tr>\n",
              "  </tbody>\n",
              "</table>\n",
              "</div>"
            ],
            "text/plain": [
              "                         Feature name  Importance\n",
              "12                    Online_boarding    0.327166\n",
              "5                               Class    0.134391\n",
              "7               Inflight_wifi_service    0.109422\n",
              "4                      Type_of_Travel    0.107317\n",
              "14             Inflight_entertainment    0.085591\n",
              "13                       Seat_comfort    0.049746\n",
              "15                   On-board_service    0.046750\n",
              "16                   Leg_room_service    0.039603\n",
              "6                     Flight_Distance    0.022453\n",
              "9              Ease_of_Online_booking    0.016754\n",
              "17                   Baggage_handling    0.012401\n",
              "2                       Customer_Type    0.011021\n",
              "19                   Inflight_service    0.008958\n",
              "18                    Checkin_service    0.008563\n",
              "20                        Cleanliness    0.006990\n",
              "8   Departure/Arrival_time_convenient    0.005753\n",
              "11                     Food_and_drink    0.002138\n",
              "0                                  id    0.001918\n",
              "10                      Gate_location    0.001104\n",
              "3                                 Age    0.000999\n",
              "1                              Gender    0.000512\n",
              "22           Arrival_Delay_in_Minutes    0.000450\n",
              "21         Departure_Delay_in_Minutes    0.000000"
            ]
          },
          "metadata": {},
          "execution_count": 79
        }
      ]
    },
    {
      "cell_type": "code",
      "metadata": {
        "id": "lRQyNdJG9WO-",
        "colab": {
          "base_uri": "https://localhost:8080/",
          "height": 217
        },
        "outputId": "9ca2934b-3bc1-4422-9bdb-d903cde472c0"
      },
      "source": [
        "feat_imp_df_act = pd.DataFrame({\n",
        "    'Feature name':features_response[:-1],\n",
        "    'Importance':cv_rf.best_estimator_.feature_importances_\n",
        "})\n"
      ],
      "execution_count": null,
      "outputs": [
        {
          "output_type": "error",
          "ename": "NameError",
          "evalue": "ignored",
          "traceback": [
            "\u001b[0;31m---------------------------------------------------------------------------\u001b[0m",
            "\u001b[0;31mNameError\u001b[0m                                 Traceback (most recent call last)",
            "\u001b[0;32m<ipython-input-80-5cdca573e9fd>\u001b[0m in \u001b[0;36m<module>\u001b[0;34m()\u001b[0m\n\u001b[1;32m      1\u001b[0m feat_imp_df_act = pd.DataFrame({\n\u001b[1;32m      2\u001b[0m     \u001b[0;34m'Feature name'\u001b[0m\u001b[0;34m:\u001b[0m\u001b[0mfeatures_response\u001b[0m\u001b[0;34m[\u001b[0m\u001b[0;34m:\u001b[0m\u001b[0;34m-\u001b[0m\u001b[0;36m1\u001b[0m\u001b[0;34m]\u001b[0m\u001b[0;34m,\u001b[0m\u001b[0;34m\u001b[0m\u001b[0;34m\u001b[0m\u001b[0m\n\u001b[0;32m----> 3\u001b[0;31m     \u001b[0;34m'Importance'\u001b[0m\u001b[0;34m:\u001b[0m\u001b[0mcv_rf\u001b[0m\u001b[0;34m.\u001b[0m\u001b[0mbest_estimator_\u001b[0m\u001b[0;34m.\u001b[0m\u001b[0mfeature_importances_\u001b[0m\u001b[0;34m\u001b[0m\u001b[0;34m\u001b[0m\u001b[0m\n\u001b[0m\u001b[1;32m      4\u001b[0m })\n",
            "\u001b[0;31mNameError\u001b[0m: name 'cv_rf' is not defined"
          ]
        }
      ]
    },
    {
      "cell_type": "code",
      "metadata": {
        "id": "y95hHx779aO7"
      },
      "source": [
        "feat_imp_df_act.sort_values('Importance', ascending=False)\n"
      ],
      "execution_count": null,
      "outputs": []
    },
    {
      "cell_type": "markdown",
      "metadata": {
        "id": "5ZTujvXl-wwd"
      },
      "source": [
        "# REFERÊNCIAS"
      ]
    },
    {
      "cell_type": "markdown",
      "metadata": {
        "id": "M8-LSd7v-4Lg"
      },
      "source": [
        "Kernels utilizados como referência para o trabalho:\n",
        "\n",
        "1. TRATAMENTO DOS DADOS: https://www.kaggle.com/teejmahal20/classification-predicting-customer-satisfaction\n",
        "\n",
        "2. TRATAMENTO: https://www.kaggle.com/chandrimad31/flight-passenger-satisfaction-eda-and-prediction\n",
        "\n",
        "3. CORRELAÇÃO E REGRESSÃO LOGÍSTICA: https://github.com/TrainingByPackt/Data-Science-Projects-with-Python/blob/master/Lesson03/Lesson03.ipynb]\n",
        "\n",
        "5. ÁRVORE DE DECISÕES e RANDOM FOREST: https://github.com/TrainingByPackt/Data-Science-Projects-with-Python/blob/master/Lesson05/Lesson05.ipynb"
      ]
    },
    {
      "cell_type": "code",
      "metadata": {
        "id": "y6xYMV228WfR"
      },
      "source": [
        ""
      ],
      "execution_count": null,
      "outputs": []
    }
  ]
}